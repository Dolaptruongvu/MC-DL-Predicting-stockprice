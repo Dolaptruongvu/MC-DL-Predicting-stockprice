{
 "cells": [
  {
   "cell_type": "code",
   "execution_count": 1,
   "metadata": {
    "colab": {
     "base_uri": "https://localhost:8080/",
     "height": 455
    },
    "id": "DewQquJ1zXi_",
    "outputId": "dc507c84-0a1f-4af5-d3b1-d2460e4a5f5a"
   },
   "outputs": [
    {
     "data": {
      "text/html": [
       "<div>\n",
       "<style scoped>\n",
       "    .dataframe tbody tr th:only-of-type {\n",
       "        vertical-align: middle;\n",
       "    }\n",
       "\n",
       "    .dataframe tbody tr th {\n",
       "        vertical-align: top;\n",
       "    }\n",
       "\n",
       "    .dataframe thead th {\n",
       "        text-align: right;\n",
       "    }\n",
       "</style>\n",
       "<table border=\"1\" class=\"dataframe\">\n",
       "  <thead>\n",
       "    <tr style=\"text-align: right;\">\n",
       "      <th></th>\n",
       "      <th>Price</th>\n",
       "      <th>Open</th>\n",
       "      <th>High</th>\n",
       "      <th>Low</th>\n",
       "      <th>Vol.</th>\n",
       "      <th>Change %</th>\n",
       "    </tr>\n",
       "  </thead>\n",
       "  <tbody>\n",
       "    <tr>\n",
       "      <th>0</th>\n",
       "      <td>45.79</td>\n",
       "      <td>45.44</td>\n",
       "      <td>45.81</td>\n",
       "      <td>45.24</td>\n",
       "      <td>844.22K</td>\n",
       "      <td>1.87%</td>\n",
       "    </tr>\n",
       "    <tr>\n",
       "      <th>1</th>\n",
       "      <td>46.30</td>\n",
       "      <td>45.93</td>\n",
       "      <td>46.36</td>\n",
       "      <td>45.90</td>\n",
       "      <td>613.23K</td>\n",
       "      <td>1.11%</td>\n",
       "    </tr>\n",
       "    <tr>\n",
       "      <th>2</th>\n",
       "      <td>47.25</td>\n",
       "      <td>46.81</td>\n",
       "      <td>47.26</td>\n",
       "      <td>46.80</td>\n",
       "      <td>770.67K</td>\n",
       "      <td>2.05%</td>\n",
       "    </tr>\n",
       "    <tr>\n",
       "      <th>3</th>\n",
       "      <td>48.70</td>\n",
       "      <td>48.18</td>\n",
       "      <td>48.79</td>\n",
       "      <td>48.17</td>\n",
       "      <td>1.36M</td>\n",
       "      <td>3.07%</td>\n",
       "    </tr>\n",
       "    <tr>\n",
       "      <th>4</th>\n",
       "      <td>49.00</td>\n",
       "      <td>48.80</td>\n",
       "      <td>49.01</td>\n",
       "      <td>48.73</td>\n",
       "      <td>618.86K</td>\n",
       "      <td>0.62%</td>\n",
       "    </tr>\n",
       "    <tr>\n",
       "      <th>...</th>\n",
       "      <td>...</td>\n",
       "      <td>...</td>\n",
       "      <td>...</td>\n",
       "      <td>...</td>\n",
       "      <td>...</td>\n",
       "      <td>...</td>\n",
       "    </tr>\n",
       "    <tr>\n",
       "      <th>1490</th>\n",
       "      <td>85.32</td>\n",
       "      <td>85.27</td>\n",
       "      <td>85.53</td>\n",
       "      <td>84.62</td>\n",
       "      <td>1.03M</td>\n",
       "      <td>-0.95%</td>\n",
       "    </tr>\n",
       "    <tr>\n",
       "      <th>1491</th>\n",
       "      <td>86.40</td>\n",
       "      <td>85.88</td>\n",
       "      <td>86.69</td>\n",
       "      <td>85.86</td>\n",
       "      <td>811.89K</td>\n",
       "      <td>1.27%</td>\n",
       "    </tr>\n",
       "    <tr>\n",
       "      <th>1492</th>\n",
       "      <td>88.40</td>\n",
       "      <td>89.00</td>\n",
       "      <td>89.54</td>\n",
       "      <td>88.40</td>\n",
       "      <td>2.17M</td>\n",
       "      <td>2.31%</td>\n",
       "    </tr>\n",
       "    <tr>\n",
       "      <th>1493</th>\n",
       "      <td>88.51</td>\n",
       "      <td>87.98</td>\n",
       "      <td>88.62</td>\n",
       "      <td>87.37</td>\n",
       "      <td>850.75K</td>\n",
       "      <td>0.12%</td>\n",
       "    </tr>\n",
       "    <tr>\n",
       "      <th>1494</th>\n",
       "      <td>89.30</td>\n",
       "      <td>88.37</td>\n",
       "      <td>89.48</td>\n",
       "      <td>88.37</td>\n",
       "      <td>647.69K</td>\n",
       "      <td>0.89%</td>\n",
       "    </tr>\n",
       "  </tbody>\n",
       "</table>\n",
       "<p>1495 rows × 6 columns</p>\n",
       "</div>"
      ],
      "text/plain": [
       "      Price   Open   High    Low     Vol. Change %\n",
       "0     45.79  45.44  45.81  45.24  844.22K    1.87%\n",
       "1     46.30  45.93  46.36  45.90  613.23K    1.11%\n",
       "2     47.25  46.81  47.26  46.80  770.67K    2.05%\n",
       "3     48.70  48.18  48.79  48.17    1.36M    3.07%\n",
       "4     49.00  48.80  49.01  48.73  618.86K    0.62%\n",
       "...     ...    ...    ...    ...      ...      ...\n",
       "1490  85.32  85.27  85.53  84.62    1.03M   -0.95%\n",
       "1491  86.40  85.88  86.69  85.86  811.89K    1.27%\n",
       "1492  88.40  89.00  89.54  88.40    2.17M    2.31%\n",
       "1493  88.51  87.98  88.62  87.37  850.75K    0.12%\n",
       "1494  89.30  88.37  89.48  88.37  647.69K    0.89%\n",
       "\n",
       "[1495 rows x 6 columns]"
      ]
     },
     "execution_count": 1,
     "metadata": {},
     "output_type": "execute_result"
    }
   ],
   "source": [
    "import pandas as pd\n",
    "import matplotlib.pyplot as plt\n",
    "import numpy as np\n",
    "import warnings\n",
    "warnings.filterwarnings('ignore')\n",
    "# Đọc dữ liệu từ tập tin CSV với các tùy chọn\n",
    "df = pd.read_csv('SONY.csv', header=0, parse_dates=[0], index_col=0)\n",
    "df = df.dropna() # Drop missing values\n",
    "df = df.reset_index(drop=True) # Reset the index\n",
    "# In ra 5 dòng đầu tiên của DataFrame\n",
    "df\n"
   ]
  },
  {
   "cell_type": "code",
   "execution_count": 2,
   "metadata": {
    "id": "gJuOh8-y_Uif"
   },
   "outputs": [],
   "source": [
    "# 2.  chia train test validate theo tỉ lệ 8:2\n",
    "# Split the data into training, testing\n",
    "train_size = int(0.8 * len(df))\n",
    "test_size = int(0.2 * len(df))\n",
    "\n",
    "\n",
    "X2D = df[['High']] # Biến độc lập theo mảng 2 chiều\n",
    "Y2D = df[['Price']] # Biến phụ thuộc theo mảng 2 chiều\n",
    "\n"
   ]
  },
  {
   "cell_type": "code",
   "execution_count": 3,
   "metadata": {
    "colab": {
     "base_uri": "https://localhost:8080/",
     "height": 387
    },
    "id": "JbQNK8an_imI",
    "outputId": "8a54dfde-fd22-4b5d-f277-bf09c0c29b62"
   },
   "outputs": [
    {
     "name": "stdout",
     "output_type": "stream",
     "text": [
      "Best parameters: {'C': 1000, 'epsilon': 1, 'gamma': 0.001}\n",
      "Best score: 0.9338323354869228\n"
     ]
    }
   ],
   "source": [
    "from sklearn.svm import SVR\n",
    "from sklearn.model_selection import GridSearchCV\n",
    "from sklearn.model_selection import cross_val_score\n",
    "\n",
    "y_train = Y2D[:train_size]\n",
    "x_train = X2D[:train_size]\n",
    "y_test = Y2D[train_size:]\n",
    "x_test = X2D[train_size:]\n",
    "y_train_index = y_train.index # lấy ra index trước khi đổi nó về mảng 2 chiều ( phục vụ plot )\n",
    "y_train = Y2D[:train_size].values.ravel()\n",
    "\n",
    "# Tạo mô hình SVR với kernel RBF\n",
    "model = SVR(kernel='rbf')\n",
    "param_grid = {\n",
    "    'C': [0.1, 1, 10, 100, 1000],             # Ví dụ các giá trị cho C\n",
    "    'gamma': ['scale', 'auto', 0.001, 0.01, 0.1, 1],  # Ví dụ các giá trị cho gamma\n",
    "    'epsilon': [0.001, 0.01, 0.1, 1, 10]      # Ví dụ các giá trị cho epsilon\n",
    "}\n",
    "\n",
    "# Tạo đối tượng GridSearchCV\n",
    "grid_search = GridSearchCV(model, param_grid, cv=5, scoring='neg_mean_squared_error', n_jobs=-1)\n",
    "\n",
    "# Huấn luyện mô hình sử dụng grid search\n",
    "svr_rbf = grid_search.fit(x_train,y_train)\n",
    "\n",
    "# In ra kết quả tốt nhất\n",
    "print(\"Best parameters:\", grid_search.best_params_)\n",
    "print(\"Best score:\", -grid_search.best_score_)\n"
   ]
  },
  {
   "cell_type": "code",
   "execution_count": 4,
   "metadata": {
    "id": "tq3vSOvd_xL3"
   },
   "outputs": [
    {
     "data": {
      "text/plain": [
       "array([65.50260552, 67.46117844, 67.05170079, 67.39127619, 66.93183093,\n",
       "       65.41260672, 64.27213004, 62.8201602 , 64.69241254, 65.18258415,\n",
       "       65.34260375, 64.95252462, 64.57234467, 64.94252119, 64.07195096,\n",
       "       64.36220121, 66.35231687, 67.18154823, 66.96179935, 66.87189217,\n",
       "       66.67207797, 73.36787748, 72.55310644, 71.30973457, 74.46965615,\n",
       "       74.46965615, 77.77748823, 75.56022653, 79.47769437, 82.07661584,\n",
       "       82.15570467, 82.95673466, 80.55469815, 79.79389191, 80.00138757,\n",
       "       78.6475341 , 80.24840141, 81.11791769, 82.65999751, 83.04577121,\n",
       "       81.68122576, 81.97776019, 83.06555813, 81.97776019, 81.49344276,\n",
       "       79.80377279, 78.321318  , 78.321318  , 79.85317694, 79.11205933,\n",
       "       81.93821952, 81.54285785, 79.56662704, 77.83682429, 77.54011953,\n",
       "       77.23345695, 76.64959962, 76.00601688, 76.16447324, 75.2530099 ,\n",
       "       75.21336196, 75.77819312, 75.28274479, 76.62980273, 77.33238821,\n",
       "       77.05536108, 80.54481753, 82.22491067, 81.05862831, 83.37230496,\n",
       "       85.00690254, 84.78874188, 86.56610334, 87.13329945, 87.631371  ,\n",
       "       88.17984105, 88.03019609, 88.8288469 , 88.52919555, 88.01024697,\n",
       "       89.83905813, 88.70896366, 88.55915217, 88.9487604 , 94.09028118,\n",
       "       93.60657169, 89.70891218, 90.60059547, 90.31989486, 90.89148183,\n",
       "       89.54878035, 88.58911069, 88.51921042, 87.28266796, 87.22291515,\n",
       "       84.47154451, 83.06555813, 81.85914083, 82.1260459 , 82.00741627,\n",
       "       83.36240839, 83.21397214, 83.06555813, 82.25457136, 84.76891269,\n",
       "       86.64567185, 87.48189637, 87.10343114, 87.38227206, 85.04657605,\n",
       "       85.19537401, 84.3030919 , 82.6402177 , 85.32436122, 86.31752977,\n",
       "       88.00027272, 88.53918088, 87.91051383, 88.25967089, 87.27270865,\n",
       "       86.25788947, 85.52285699, 86.86454868, 88.36945878, 89.75896421,\n",
       "       90.21968226, 89.979254  , 88.85882244, 87.17312666, 87.36234962,\n",
       "       88.32953298, 89.23867611, 89.66887427, 90.29985074, 90.06940097,\n",
       "       90.70088284, 89.95922357, 91.12229824, 91.22268382, 90.87141554,\n",
       "       90.6407081 , 93.89878555, 94.00964731, 90.52037958, 91.35321232,\n",
       "       90.23972318, 92.0264056 , 92.24761695, 92.93182313, 91.34317059,\n",
       "       92.94188986, 92.36830967, 92.45884362, 94.20116211, 93.97941114,\n",
       "       93.11304436, 94.755711  , 98.04408174, 97.37853809, 97.37853809,\n",
       "       94.43303687, 93.79801237, 94.41287218, 95.50211568, 95.08853543,\n",
       "       93.34466459, 95.91574632, 97.75168103, 97.99367224, 99.14244435,\n",
       "       97.69117701, 96.28904055, 97.94326084, 98.44728352, 99.8471149 ,\n",
       "       99.79680232, 98.64883008, 97.54999215, 95.88547962, 94.2918906 ,\n",
       "       92.92175654, 90.32991721, 89.99928524, 89.21867627, 90.39005552,\n",
       "       89.13868527, 89.62883965, 90.93161669, 90.61062334, 89.67888344,\n",
       "       90.70088284, 89.70891218, 89.23867611, 91.37329634, 92.9821581 ,\n",
       "       92.06662009, 93.14325197, 94.28180932, 93.85847508, 92.71038955,\n",
       "       92.81103292, 92.7707739 , 92.63994757, 92.92175654, 94.04996351,\n",
       "       93.02242846, 93.21374079, 92.7707739 , 91.02193112, 89.03871537,\n",
       "       90.19964214, 89.55878703, 89.41871228, 89.14868341, 85.85052263,\n",
       "       84.64994991, 82.8775972 , 82.60065901, 82.06673001, 82.38310797,\n",
       "       81.89867975, 81.5725074 , 81.70099332, 81.67134205, 81.26614556,\n",
       "       80.59422072, 81.14756274, 81.73064502, 81.74052902, 82.33366944,\n",
       "       84.82840203, 84.05543732, 84.94739689, 84.22383356, 83.52076615,\n",
       "       84.49136508, 84.50127557, 83.79796017, 85.74127992, 86.34735242,\n",
       "       85.74127992, 85.82072707, 84.82840203, 82.29411986, 82.01730175,\n",
       "       82.27434547, 81.49344276, 82.185364  , 82.06673001, 81.96787494,\n",
       "       80.94993344, 80.94993344, 80.83136017, 82.04695853, 82.2347975 ,\n",
       "       82.51165651, 84.04553281, 84.83831744, 86.11875449, 84.70942867,\n",
       "       84.33281598, 85.23505949, 84.15448942, 83.78805883, 82.83803058,\n",
       "       82.51165651, 83.2040772 , 83.02598467, 80.72267026, 79.86305773,\n",
       "       80.94993344, 82.15570467, 84.07524672, 85.64198654, 86.8048457 ,\n",
       "       86.15850369, 86.88445123, 87.70114157, 84.48145473, 85.13585057,\n",
       "       82.48199036, 84.20402029, 87.05365459, 86.47660332, 86.5362683 ,\n",
       "       86.46665982, 86.32747047, 86.83469631, 85.63205814, 85.96972073,\n",
       "       86.4567165 , 85.9299852 , 85.51293062, 85.21521643, 84.39226778,\n",
       "       85.54271023, 88.37944076, 87.46196989, 88.31955205])"
      ]
     },
     "execution_count": 4,
     "metadata": {},
     "output_type": "execute_result"
    }
   ],
   "source": [
    "\n",
    "y_pred = svr_rbf.predict(x_test)\n",
    "y_pred\n"
   ]
  },
  {
   "cell_type": "code",
   "execution_count": 5,
   "metadata": {
    "colab": {
     "base_uri": "https://localhost:8080/"
    },
    "id": "mI2qmayj_-rD",
    "outputId": "d648e73b-f491-41e3-9835-906ee8eb8f6d"
   },
   "outputs": [
    {
     "data": {
      "text/plain": [
       "array([[89.3]])"
      ]
     },
     "execution_count": 5,
     "metadata": {},
     "output_type": "execute_result"
    }
   ],
   "source": [
    "last_row = df.tail(1)\n",
    "last_data = last_row['Price'].values.reshape(-1,1)\n",
    "last_data"
   ]
  },
  {
   "cell_type": "code",
   "execution_count": 6,
   "metadata": {},
   "outputs": [
    {
     "data": {
      "text/plain": [
       "[array([88.13993114]),\n",
       " array([86.98390719]),\n",
       " array([85.83453929]),\n",
       " array([84.69410178]),\n",
       " array([83.56442011]),\n",
       " array([82.44680729]),\n",
       " array([81.34204817]),\n",
       " array([80.25042511]),\n",
       " array([79.17177446]),\n",
       " array([78.10556253]),\n",
       " array([77.05097023]),\n",
       " array([76.00697782]),\n",
       " array([74.97244342]),\n",
       " array([73.94617129]),\n",
       " array([72.92696743]),\n",
       " array([71.91368166]),\n",
       " array([70.90523598]),\n",
       " array([69.90063972]),\n",
       " array([68.89899243]),\n",
       " array([67.8994761]),\n",
       " array([66.9013385]),\n",
       " array([65.90387022]),\n",
       " array([64.90637843]),\n",
       " array([63.90816124]),\n",
       " array([62.9084866]),\n",
       " array([61.90658081]),\n",
       " array([60.90163187]),\n",
       " array([59.89281341]),\n",
       " array([58.87933597]),\n",
       " array([57.86053249])]"
      ]
     },
     "execution_count": 6,
     "metadata": {},
     "output_type": "execute_result"
    }
   ],
   "source": [
    "# tạo mảng chứa giá trị predict của 30 ngày tiếp theo\n",
    "x_next_30_days = []\n",
    "# predict giá Close 30 ngày tiếp theo dựa vào giá Close của ngày trước đó\n",
    "for i in range(30):\n",
    "    x_pred_next = svr_rbf.predict(last_data)\n",
    "    x_next_30_days.append(x_pred_next)\n",
    "    last_data = x_pred_next.reshape(-1,1)\n",
    "x_next_30_days"
   ]
  },
  {
   "cell_type": "code",
   "execution_count": 7,
   "metadata": {},
   "outputs": [
    {
     "data": {
      "image/png": "[encoded data removed]",
      "text/plain": [
       "<Figure size 1000x600 with 1 Axes>"
      ]
     },
     "metadata": {},
     "output_type": "display_data"
    }
   ],
   "source": [
    "\n",
    "# Vẽ biểu đồ\n",
    "plt.figure(figsize=(10, 6)) # Set the figure size\n",
    "plt.plot(x_next_30_days, marker='o', color='b', label='Predicted Next 30 Days')\n",
    "\n",
    "# Đặt tiêu đề và nhãn\n",
    "plt.title('Predicted Values for the Next 30 Days')\n",
    "plt.xlabel('Date')\n",
    "plt.ylabel('Predicted Value')\n",
    "plt.xticks(rotation=45) # Rotate x-axis labels for better readability\n",
    "plt.legend()\n",
    "\n",
    "# Hiển thị biểu đồ\n",
    "plt.show()"
   ]
  },
  {
   "cell_type": "code",
   "execution_count": 8,
   "metadata": {},
   "outputs": [],
   "source": [
    "# Chuyển cột predict price thành mảng 2 chiều\n",
    "y_pred = y_pred.reshape(-1,1)"
   ]
  },
  {
   "cell_type": "code",
   "execution_count": 9,
   "metadata": {
    "colab": {
     "base_uri": "https://localhost:8080/"
    },
    "id": "JwcVt4wgAHCy",
    "outputId": "72abb27d-2114-49e5-ec95-6922e37d60a9"
   },
   "outputs": [
    {
     "name": "stdout",
     "output_type": "stream",
     "text": [
      "Testing RMSE: 0.7874241434261171\n",
      "Testing MAPE: 0.00769481931387693\n",
      "Testing MAE: 0.6546205305404849\n"
     ]
    }
   ],
   "source": [
    "from sklearn.metrics import mean_absolute_percentage_error,mean_absolute_error\n",
    "# 7. Đánh giá độ chính xác test bằng RMSE, MAE , MAPE\n",
    "# RMSE\n",
    "test_rmse = np.sqrt(np.mean((y_pred - y_test)**2))\n",
    "print('Testing RMSE:', test_rmse)\n",
    "# MAPE\n",
    "test_mape = mean_absolute_percentage_error(y_test,y_pred)\n",
    "print('Testing MAPE:', test_mape)\n",
    "# MAE\n",
    "test_mae = mean_absolute_error(y_test,y_pred)\n",
    "print('Testing MAE:', test_mae)"
   ]
  },
  {
   "cell_type": "code",
   "execution_count": 10,
   "metadata": {},
   "outputs": [],
   "source": [
    "# Tạo index cho 30 ngày tiếp theo\n",
    "last_index =  df.index[-1]\n",
    "next_30_dates = pd.RangeIndex(start=last_index, stop=last_index+30, step=1)"
   ]
  },
  {
   "cell_type": "code",
   "execution_count": 11,
   "metadata": {
    "colab": {
     "base_uri": "https://localhost:8080/",
     "height": 465
    },
    "id": "DE3Pge7a0EHs",
    "outputId": "df98bb23-fd48-47c6-c83d-e9f5cfbf1ca0"
   },
   "outputs": [
    {
     "name": "stdout",
     "output_type": "stream",
     "text": [
      "Testing RMSE: 0.7874241434261171\n",
      "Testing MAPE: 0.00769481931387693\n",
      "Testing MAE: 0.6546205305404849\n"
     ]
    },
    {
     "data": {
      "image/png": "[encoded data removed]",
      "text/plain": [
       "<Figure size 640x480 with 1 Axes>"
      ]
     },
     "metadata": {},
     "output_type": "display_data"
    }
   ],
   "source": [
    "# 8. Tính RMSE\n",
    "test_rmse = np.sqrt(np.mean((y_pred - y_test)**2))\n",
    "print('Testing RMSE:', test_rmse)\n",
    "# MAPE\n",
    "test_mape = mean_absolute_percentage_error(y_test,y_pred)\n",
    "print('Testing MAPE:', test_mape)\n",
    "# MAE\n",
    "test_mae = mean_absolute_error(y_test,y_pred)\n",
    "print('Testing MAE:', test_mae)\n",
    "\n",
    "# 9.Vẽ hình\n",
    "\n",
    "plt.plot(y_train_index, y_train)\n",
    "plt.plot(y_test.index, y_test)\n",
    "plt.plot(y_test.index, y_pred)\n",
    "plt.plot(next_30_dates,x_next_30_days)\n",
    "plt.legend(['Train', 'Test', 'Predictions','Next30Day'])\n",
    "plt.show()"
   ]
  }
 ],
 "metadata": {
  "colab": {
   "provenance": []
  },
  "kernelspec": {
   "display_name": "Python 3 (ipykernel)",
   "language": "python",
   "name": "python3"
  },
  "language_info": {
   "codemirror_mode": {
    "name": "ipython",
    "version": 3
   },
   "file_extension": ".py",
   "mimetype": "text/x-python",
   "name": "python",
   "nbconvert_exporter": "python",
   "pygments_lexer": "ipython3",
   "version": "3.11.5"
  }
 },
 "nbformat": 4,
 "nbformat_minor": 1
}
