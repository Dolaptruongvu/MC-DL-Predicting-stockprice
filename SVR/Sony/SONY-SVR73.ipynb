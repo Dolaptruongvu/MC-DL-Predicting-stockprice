{
 "cells": [
  {
   "cell_type": "code",
   "execution_count": 1,
   "metadata": {
    "colab": {
     "base_uri": "https://localhost:8080/",
     "height": 455
    },
    "id": "DewQquJ1zXi_",
    "outputId": "dc507c84-0a1f-4af5-d3b1-d2460e4a5f5a"
   },
   "outputs": [
    {
     "data": {
      "text/html": [
       "<div>\n",
       "<style scoped>\n",
       "    .dataframe tbody tr th:only-of-type {\n",
       "        vertical-align: middle;\n",
       "    }\n",
       "\n",
       "    .dataframe tbody tr th {\n",
       "        vertical-align: top;\n",
       "    }\n",
       "\n",
       "    .dataframe thead th {\n",
       "        text-align: right;\n",
       "    }\n",
       "</style>\n",
       "<table border=\"1\" class=\"dataframe\">\n",
       "  <thead>\n",
       "    <tr style=\"text-align: right;\">\n",
       "      <th></th>\n",
       "      <th>Price</th>\n",
       "      <th>Open</th>\n",
       "      <th>High</th>\n",
       "      <th>Low</th>\n",
       "      <th>Vol.</th>\n",
       "      <th>Change %</th>\n",
       "    </tr>\n",
       "  </thead>\n",
       "  <tbody>\n",
       "    <tr>\n",
       "      <th>0</th>\n",
       "      <td>45.79</td>\n",
       "      <td>45.44</td>\n",
       "      <td>45.81</td>\n",
       "      <td>45.24</td>\n",
       "      <td>844.22K</td>\n",
       "      <td>1.87%</td>\n",
       "    </tr>\n",
       "    <tr>\n",
       "      <th>1</th>\n",
       "      <td>46.30</td>\n",
       "      <td>45.93</td>\n",
       "      <td>46.36</td>\n",
       "      <td>45.90</td>\n",
       "      <td>613.23K</td>\n",
       "      <td>1.11%</td>\n",
       "    </tr>\n",
       "    <tr>\n",
       "      <th>2</th>\n",
       "      <td>47.25</td>\n",
       "      <td>46.81</td>\n",
       "      <td>47.26</td>\n",
       "      <td>46.80</td>\n",
       "      <td>770.67K</td>\n",
       "      <td>2.05%</td>\n",
       "    </tr>\n",
       "    <tr>\n",
       "      <th>3</th>\n",
       "      <td>48.70</td>\n",
       "      <td>48.18</td>\n",
       "      <td>48.79</td>\n",
       "      <td>48.17</td>\n",
       "      <td>1.36M</td>\n",
       "      <td>3.07%</td>\n",
       "    </tr>\n",
       "    <tr>\n",
       "      <th>4</th>\n",
       "      <td>49.00</td>\n",
       "      <td>48.80</td>\n",
       "      <td>49.01</td>\n",
       "      <td>48.73</td>\n",
       "      <td>618.86K</td>\n",
       "      <td>0.62%</td>\n",
       "    </tr>\n",
       "    <tr>\n",
       "      <th>...</th>\n",
       "      <td>...</td>\n",
       "      <td>...</td>\n",
       "      <td>...</td>\n",
       "      <td>...</td>\n",
       "      <td>...</td>\n",
       "      <td>...</td>\n",
       "    </tr>\n",
       "    <tr>\n",
       "      <th>1490</th>\n",
       "      <td>85.32</td>\n",
       "      <td>85.27</td>\n",
       "      <td>85.53</td>\n",
       "      <td>84.62</td>\n",
       "      <td>1.03M</td>\n",
       "      <td>-0.95%</td>\n",
       "    </tr>\n",
       "    <tr>\n",
       "      <th>1491</th>\n",
       "      <td>86.40</td>\n",
       "      <td>85.88</td>\n",
       "      <td>86.69</td>\n",
       "      <td>85.86</td>\n",
       "      <td>811.89K</td>\n",
       "      <td>1.27%</td>\n",
       "    </tr>\n",
       "    <tr>\n",
       "      <th>1492</th>\n",
       "      <td>88.40</td>\n",
       "      <td>89.00</td>\n",
       "      <td>89.54</td>\n",
       "      <td>88.40</td>\n",
       "      <td>2.17M</td>\n",
       "      <td>2.31%</td>\n",
       "    </tr>\n",
       "    <tr>\n",
       "      <th>1493</th>\n",
       "      <td>88.51</td>\n",
       "      <td>87.98</td>\n",
       "      <td>88.62</td>\n",
       "      <td>87.37</td>\n",
       "      <td>850.75K</td>\n",
       "      <td>0.12%</td>\n",
       "    </tr>\n",
       "    <tr>\n",
       "      <th>1494</th>\n",
       "      <td>89.30</td>\n",
       "      <td>88.37</td>\n",
       "      <td>89.48</td>\n",
       "      <td>88.37</td>\n",
       "      <td>647.69K</td>\n",
       "      <td>0.89%</td>\n",
       "    </tr>\n",
       "  </tbody>\n",
       "</table>\n",
       "<p>1495 rows × 6 columns</p>\n",
       "</div>"
      ],
      "text/plain": [
       "      Price   Open   High    Low     Vol. Change %\n",
       "0     45.79  45.44  45.81  45.24  844.22K    1.87%\n",
       "1     46.30  45.93  46.36  45.90  613.23K    1.11%\n",
       "2     47.25  46.81  47.26  46.80  770.67K    2.05%\n",
       "3     48.70  48.18  48.79  48.17    1.36M    3.07%\n",
       "4     49.00  48.80  49.01  48.73  618.86K    0.62%\n",
       "...     ...    ...    ...    ...      ...      ...\n",
       "1490  85.32  85.27  85.53  84.62    1.03M   -0.95%\n",
       "1491  86.40  85.88  86.69  85.86  811.89K    1.27%\n",
       "1492  88.40  89.00  89.54  88.40    2.17M    2.31%\n",
       "1493  88.51  87.98  88.62  87.37  850.75K    0.12%\n",
       "1494  89.30  88.37  89.48  88.37  647.69K    0.89%\n",
       "\n",
       "[1495 rows x 6 columns]"
      ]
     },
     "execution_count": 1,
     "metadata": {},
     "output_type": "execute_result"
    }
   ],
   "source": [
    "import pandas as pd\n",
    "import matplotlib.pyplot as plt\n",
    "import numpy as np\n",
    "import warnings\n",
    "warnings.filterwarnings('ignore')\n",
    "# Đọc dữ liệu từ tập tin CSV với các tùy chọn\n",
    "df = pd.read_csv('SONY.csv', header=0, parse_dates=[0], index_col=0)\n",
    "df = df.dropna() # Drop missing values\n",
    "df = df.reset_index(drop=True) # Reset the index\n",
    "# In ra 5 dòng đầu tiên của DataFrame\n",
    "df\n"
   ]
  },
  {
   "cell_type": "code",
   "execution_count": 2,
   "metadata": {
    "id": "gJuOh8-y_Uif"
   },
   "outputs": [],
   "source": [
    "# 2.  chia train test validate theo tỉ lệ 7:3\n",
    "# Split the data into training, testing\n",
    "train_size = int(0.7 * len(df))\n",
    "test_size = int(0.3 * len(df))\n",
    "\n",
    "\n",
    "X2D = df[['High']] # Biến độc lập theo mảng 2 chiều\n",
    "Y2D = df[['Price']] # Biến phụ thuộc theo mảng 2 chiều\n",
    "\n"
   ]
  },
  {
   "cell_type": "code",
   "execution_count": 3,
   "metadata": {
    "colab": {
     "base_uri": "https://localhost:8080/",
     "height": 387
    },
    "id": "JbQNK8an_imI",
    "outputId": "8a54dfde-fd22-4b5d-f277-bf09c0c29b62"
   },
   "outputs": [
    {
     "name": "stdout",
     "output_type": "stream",
     "text": [
      "Best parameters: {'C': 1000, 'epsilon': 1, 'gamma': 0.001}\n",
      "Best score: 0.9052924064901315\n"
     ]
    }
   ],
   "source": [
    "from sklearn.svm import SVR\n",
    "from sklearn.model_selection import GridSearchCV\n",
    "from sklearn.model_selection import cross_val_score\n",
    "\n",
    "y_train = Y2D[:train_size]\n",
    "x_train = X2D[:train_size]\n",
    "y_test = Y2D[train_size:]\n",
    "x_test = X2D[train_size:]\n",
    "y_train_index = y_train.index # lấy ra index trước khi đổi nó về mảng 2 chiều ( phục vụ plot )\n",
    "y_train = Y2D[:train_size].values.ravel()\n",
    "\n",
    "# Tạo mô hình SVR với kernel RBF\n",
    "model = SVR(kernel='rbf')\n",
    "param_grid = {\n",
    "    'C': [0.1, 1, 10, 100, 1000],             # Ví dụ các giá trị cho C\n",
    "    'gamma': ['scale', 'auto', 0.001, 0.01, 0.1, 1],  # Ví dụ các giá trị cho gamma\n",
    "    'epsilon': [0.001, 0.01, 0.1, 1, 10]      # Ví dụ các giá trị cho epsilon\n",
    "}\n",
    "\n",
    "# Tạo đối tượng GridSearchCV\n",
    "grid_search = GridSearchCV(model, param_grid, cv=5, scoring='neg_mean_squared_error', n_jobs=-1)\n",
    "\n",
    "# Huấn luyện mô hình sử dụng grid search\n",
    "svr_rbf = grid_search.fit(x_train,y_train)\n",
    "\n",
    "# In ra kết quả tốt nhất\n",
    "print(\"Best parameters:\", grid_search.best_params_)\n",
    "print(\"Best score:\", -grid_search.best_score_)\n"
   ]
  },
  {
   "cell_type": "code",
   "execution_count": 4,
   "metadata": {
    "id": "tq3vSOvd_xL3"
   },
   "outputs": [
    {
     "data": {
      "text/plain": [
       "array([102.03016525, 101.30170071, 101.10197532, 100.9421485 ,\n",
       "        97.92768155,  96.90316085,  98.10834005,  97.99794295,\n",
       "        99.69205312,  99.31151591,  96.59154932,  97.24480817,\n",
       "       102.00024436, 103.67395672, 105.1063469 , 104.88758786,\n",
       "       105.2554919 , 104.5892461 , 106.42873763, 105.71284587,\n",
       "       104.02224447, 105.73273056, 105.23560624, 103.52465485,\n",
       "       102.2196336 , 103.97249576, 102.42898573,  98.75030556,\n",
       "        97.72689826,  98.56981382,  93.26052012,  91.89179274,\n",
       "        90.84593707,  90.80573159,  88.19656763,  88.23663748,\n",
       "        89.12880472,  89.96181991,  86.60581078,  86.5258786 ,\n",
       "        85.37797333,  85.09879506,  86.78569552,  87.37567966,\n",
       "        85.36800062,  85.60738844,  87.58580715,  86.30611769,\n",
       "        83.84392217,  81.49895591,  82.69052946,  81.55850168,\n",
       "        83.86382333,  86.14633993,  86.03651627,  86.81568134,\n",
       "        88.10641936,  88.60739765,  89.37961666,  89.13883554,\n",
       "        88.25667332,  87.82603757,  89.78108989,  91.2480778 ,\n",
       "        93.76387808,  94.60951272,  92.76728181,  92.01252354,\n",
       "        92.18357488,  91.61012746,  91.83143106,  90.73537595,\n",
       "        88.07637268,  84.31174437,  82.3627001 ,  83.93348165,\n",
       "        81.61805064,  83.34656438,  84.35157325,  83.54546851,\n",
       "        83.07812332,  84.57067299,  84.32170137,  84.81973529,\n",
       "        82.55143574,  80.98301795,  80.7846358 ,  79.93188732,\n",
       "        80.00128138,  82.62097987,  81.85627915,  81.637901  ,\n",
       "        81.86620651,  80.66562005,  80.21939364,  81.11198223,\n",
       "        82.39249788,  84.06286481,  85.47770898,  86.15632485,\n",
       "        87.12561879,  84.94928416,  84.6304396 ,  85.96663844,\n",
       "        86.62579542,  84.68024911,  85.56748427,  85.52758259,\n",
       "        86.31610515,  85.49765796,  86.11638612,  85.89676834,\n",
       "        83.25707401,  84.47107358,  85.53755778,  85.69718192,\n",
       "        86.13635517,  85.36800062,  86.75571114,  86.27615626,\n",
       "        86.25618277,  85.10876366,  83.91357859,  83.45595533,\n",
       "        84.14249678,  83.89367608,  80.85406627,  81.1219031 ,\n",
       "        79.83275715,  78.1084412 ,  77.79138471,  75.29408534,\n",
       "        73.6973249 ,  73.87591655,  74.63967872,  74.94707752,\n",
       "        73.00260589,  71.52270978,  72.39693747,  71.56246008,\n",
       "        71.53264747,  70.78710394,  70.47881524,  69.64305706,\n",
       "        67.74047129,  67.01245375,  65.97442868,  66.29392933,\n",
       "        65.05531353,  64.43543684,  65.50498396,  67.46128875,\n",
       "        67.05235769,  67.39148207,  66.93264147,  65.41506581,\n",
       "        64.27540541,  62.82390604,  64.69543231,  65.18523885,\n",
       "        65.34512399,  64.95535954,  64.57544292,  64.94536359,\n",
       "        64.07532917,  64.36542631,  66.35382489,  67.18203535,\n",
       "        66.96257177,  66.87277839,  66.67321073,  73.35992981,\n",
       "        72.54589666,  71.30406102,  74.46116643,  74.46116643,\n",
       "        77.77156878,  75.55182784,  79.47592578,  82.08463274,\n",
       "        82.16407235,  82.96878388,  80.55653078,  79.79310641,\n",
       "        80.00128138,  78.64349495,  80.24913828,  81.1219031 ,\n",
       "        82.67065758,  83.05824234,  81.68752849,  81.98534223,\n",
       "        83.07812332,  81.98534223,  81.49895591,  79.80301902,\n",
       "        78.31651321,  78.31651321,  79.8525828 ,  79.10923443,\n",
       "        81.94562878,  81.54857717,  79.56512851,  77.8310166 ,\n",
       "        77.53377714,  77.22662525,  76.64201252,  75.99785877,\n",
       "        76.1564308 ,  75.24451619,  75.20486007,  75.7698966 ,\n",
       "        75.27425781,  76.62219402,  77.32570736,  77.04827461,\n",
       "        80.54661396,  82.23358734,  81.06237906,  83.38634113,\n",
       "        85.02901909,  84.80977103,  86.5958187 ,  87.16562187,\n",
       "        87.66587395,  88.21660225,  88.06635743,  88.8680527 ,\n",
       "        88.56730565,  88.04632739,  89.88149046,  88.74773816,\n",
       "        88.59737443,  88.9883879 ,  94.13637058,  93.65313703,\n",
       "        89.75097219,  90.6449262 ,  90.36358298,  90.93640527,\n",
       "        89.59036397,  88.62744454,  88.55728302,  87.31565602,\n",
       "        87.25563807,  84.49099231,  83.07812332,  81.86620651,\n",
       "        82.13428174,  82.01512835,  83.37639675,  83.22724613,\n",
       "        83.07812332,  82.26338103,  84.78984296,  86.67575981,\n",
       "        87.51575693,  87.13561932,  87.41569858,  85.06889017,\n",
       "        85.21842825,  84.32170137,  82.65078616,  85.34805564,\n",
       "        86.34606849,  88.03631259,  88.57732843,  87.94618639,\n",
       "        88.29674681,  87.30565263,  86.28614325,  85.54753312,\n",
       "        86.89565053,  88.40696133,  89.801169  ,  90.26312456,\n",
       "        90.02207218,  88.89813457,  87.20562748,  87.3956888 ,\n",
       "        88.36688122,  89.27928161,  89.71081704,  90.34349038,\n",
       "        90.11245878,  90.74542644,  90.0019876 ,  91.16763759,\n",
       "        91.26818875,  90.91630053,  90.68512503,  93.9450913 ,\n",
       "        94.05583226,  90.56453365,  91.39891852,  90.28321532,\n",
       "        92.07289252,  92.29426448,  92.97866048,  91.38886187,\n",
       "        92.98872651,  92.41502451,  92.50559947,  94.24710958,\n",
       "        94.02563025,  93.15985358,  94.80076716,  98.07823342,\n",
       "        97.41558118,  97.41558118,  94.47864828,  93.8444173 ,\n",
       "        94.45851492,  95.54550596,  95.13291367,  93.39138983,\n",
       "        95.95799204,  97.78713885,  98.02805291,  99.1712595 ,\n",
       "        97.72689826,  96.33012409,  97.97786895,  98.47954975,\n",
       "        99.87222558,  99.822183  ,  98.68012014,  97.58631861,\n",
       "        95.92781427,  94.33771289,  92.96859449,  90.37362945,\n",
       "        90.04215724,  89.25921623,  90.43391065,  89.17896023,\n",
       "        89.67066394,  90.97661594,  90.65497575,  89.72085564,\n",
       "        90.74542644,  89.75097219,  89.27928161,  91.41903209,\n",
       "        93.02899095,  92.11313978,  93.1900533 ,  94.32764592,\n",
       "        93.90482172,  92.75721657,  92.85787072,  92.81760861,\n",
       "        92.68676102,  92.96859449,  94.09610149,  93.06925587,\n",
       "        93.26052012,  92.81760861,  91.06709561,  89.0786527 ,\n",
       "        90.24303426,  89.60040101,  89.45989443,  89.18899174,\n",
       "        85.87680688,  84.67028692,  82.88927332,  82.61104466,\n",
       "        82.07470325,  82.39249788,  81.90591687,  81.57835098,\n",
       "        81.70738012,  81.67760281,  81.27072558,  80.59619869,\n",
       "        81.15166617,  81.73715825,  81.74708448,  82.34283544,\n",
       "        84.84962895,  84.07281832,  84.96921699,  84.24204927,\n",
       "        83.53552209,  84.51091161,  84.52087148,  83.81407143,\n",
       "        85.76703004,  86.37603326,  85.76703004,  85.84686585,\n",
       "        84.84962895,  82.3031074 ,  82.02505725,  82.283244  ,\n",
       "        81.49895591,  82.19386387,  82.07470325,  81.97541372,\n",
       "        80.95325877,  80.95325877,  80.83422864,  82.05484455,\n",
       "        82.24351847,  82.52163277,  84.06286481,  84.8595938 ,\n",
       "        86.14633993,  84.73006229,  84.35157325,  85.25831085,\n",
       "        84.17236106,  83.80412145,  82.84952086,  82.52163277,\n",
       "        83.21730376,  83.03836185,  80.72512669,  79.8624957 ,\n",
       "        80.95325877,  82.16407235,  84.09272576,  85.66724936,\n",
       "        86.83567268,  86.18628056,  86.91564443,  87.73594062,\n",
       "        84.50095189,  85.15860892,  82.49183079,  84.22213765,\n",
       "        87.08561826,  86.50589715,  86.56584341,  86.49590666,\n",
       "        86.35605659,  86.86566089,  85.65727215,  85.99658513,\n",
       "        86.48591633,  85.95665653,  85.53755778,  85.23836925,\n",
       "        84.41132084,  85.56748427,  88.41698173,  87.495744  ,\n",
       "        88.35686157])"
      ]
     },
     "execution_count": 4,
     "metadata": {},
     "output_type": "execute_result"
    }
   ],
   "source": [
    "\n",
    "\n",
    "y_pred = svr_rbf.predict(x_test)\n",
    "y_pred\n"
   ]
  },
  {
   "cell_type": "code",
   "execution_count": 5,
   "metadata": {
    "colab": {
     "base_uri": "https://localhost:8080/"
    },
    "id": "mI2qmayj_-rD",
    "outputId": "d648e73b-f491-41e3-9835-906ee8eb8f6d"
   },
   "outputs": [
    {
     "data": {
      "text/plain": [
       "array([[89.3]])"
      ]
     },
     "execution_count": 5,
     "metadata": {},
     "output_type": "execute_result"
    }
   ],
   "source": [
    "last_row = df.tail(1)\n",
    "last_data = last_row['Price'].values.reshape(-1,1)\n",
    "last_data"
   ]
  },
  {
   "cell_type": "code",
   "execution_count": 6,
   "metadata": {},
   "outputs": [
    {
     "data": {
      "text/plain": [
       "[array([88.17653361]),\n",
       " array([87.05215339]),\n",
       " array([85.9288611]),\n",
       " array([84.80863622]),\n",
       " array([83.69332374]),\n",
       " array([82.58454179]),\n",
       " array([81.48361522]),\n",
       " array([80.39153827]),\n",
       " array([79.30896465]),\n",
       " array([78.23622132]),\n",
       " array([77.17333977]),\n",
       " array([76.12009846]),\n",
       " array([75.07607033]),\n",
       " array([74.04067017]),\n",
       " array([73.01319799]),\n",
       " array([71.99287576]),\n",
       " array([70.97887602]),\n",
       " array([69.97034186]),\n",
       " array([68.96639852]),\n",
       " array([67.96615751]),\n",
       " array([66.96871487]),\n",
       " array([65.97314536]),\n",
       " array([64.97849514]),\n",
       " array([63.98377566]),\n",
       " array([62.98796217]),\n",
       " array([61.99000049]),\n",
       " array([60.98882648]),\n",
       " array([59.98340321]),\n",
       " array([58.97278159]),\n",
       " array([57.95619124])]"
      ]
     },
     "execution_count": 6,
     "metadata": {},
     "output_type": "execute_result"
    }
   ],
   "source": [
    "# tạo mảng chứa giá trị predict của 30 ngày tiếp theo\n",
    "x_next_30_days = []\n",
    "# predict giá Close 30 ngày tiếp theo dựa vào giá Close của ngày trước đó\n",
    "for i in range(30):\n",
    "    x_pred_next = svr_rbf.predict(last_data)\n",
    "    x_next_30_days.append(x_pred_next)\n",
    "    last_data = x_pred_next.reshape(-1,1)\n",
    "x_next_30_days"
   ]
  },
  {
   "cell_type": "code",
   "execution_count": 7,
   "metadata": {},
   "outputs": [
    {
     "data": {
      "image/png": "[encoded data removed]",
      "text/plain": [
       "<Figure size 1000x600 with 1 Axes>"
      ]
     },
     "metadata": {},
     "output_type": "display_data"
    }
   ],
   "source": [
    "\n",
    "# Vẽ biểu đồ\n",
    "plt.figure(figsize=(10, 6)) # Set the figure size\n",
    "plt.plot(x_next_30_days, marker='o', color='b', label='Predicted Next 30 Days')\n",
    "\n",
    "# Đặt tiêu đề và nhãn\n",
    "plt.title('Predicted Values for the Next 30 Days')\n",
    "plt.xlabel('Date')\n",
    "plt.ylabel('Predicted Value')\n",
    "plt.xticks(rotation=45) # Rotate x-axis labels for better readability\n",
    "plt.legend()\n",
    "\n",
    "# Hiển thị biểu đồ\n",
    "plt.show()"
   ]
  },
  {
   "cell_type": "code",
   "execution_count": 8,
   "metadata": {},
   "outputs": [],
   "source": [
    "# Chuyển cột predict price thành mảng 2 chiều\n",
    "y_pred = y_pred.reshape(-1,1)"
   ]
  },
  {
   "cell_type": "code",
   "execution_count": 9,
   "metadata": {
    "colab": {
     "base_uri": "https://localhost:8080/"
    },
    "id": "JwcVt4wgAHCy",
    "outputId": "72abb27d-2114-49e5-ec95-6922e37d60a9"
   },
   "outputs": [
    {
     "name": "stdout",
     "output_type": "stream",
     "text": [
      "Testing RMSE: 0.7773750165013922\n",
      "Testing MAPE: 0.0075856711981606186\n",
      "Testing MAE: 0.649575821116974\n"
     ]
    }
   ],
   "source": [
    "from sklearn.metrics import mean_absolute_percentage_error,mean_absolute_error\n",
    "# 7. Đánh giá độ chính xác test bằng RMSE, MAE , MAPE\n",
    "# RMSE\n",
    "test_rmse = np.sqrt(np.mean((y_pred - y_test)**2))\n",
    "print('Testing RMSE:', test_rmse)\n",
    "# MAPE\n",
    "test_mape = mean_absolute_percentage_error(y_test,y_pred)\n",
    "print('Testing MAPE:', test_mape)\n",
    "# MAE\n",
    "test_mae = mean_absolute_error(y_test,y_pred)\n",
    "print('Testing MAE:', test_mae)"
   ]
  },
  {
   "cell_type": "code",
   "execution_count": 10,
   "metadata": {},
   "outputs": [],
   "source": [
    "# Tạo index cho 30 ngày tiếp theo\n",
    "last_index =  df.index[-1]\n",
    "next_30_dates = pd.RangeIndex(start=last_index, stop=last_index+30, step=1)"
   ]
  },
  {
   "cell_type": "code",
   "execution_count": 11,
   "metadata": {
    "colab": {
     "base_uri": "https://localhost:8080/",
     "height": 465
    },
    "id": "DE3Pge7a0EHs",
    "outputId": "df98bb23-fd48-47c6-c83d-e9f5cfbf1ca0"
   },
   "outputs": [
    {
     "name": "stdout",
     "output_type": "stream",
     "text": [
      "Testing RMSE: 0.7773750165013922\n",
      "Testing MAPE: 0.0075856711981606186\n",
      "Testing MAE: 0.649575821116974\n"
     ]
    },
    {
     "data": {
      "image/png": "[encoded data removed]",
      "text/plain": [
       "<Figure size 640x480 with 1 Axes>"
      ]
     },
     "metadata": {},
     "output_type": "display_data"
    }
   ],
   "source": [
    "# 8. Tính RMSE\n",
    "test_rmse = np.sqrt(np.mean((y_pred - y_test)**2))\n",
    "print('Testing RMSE:', test_rmse)\n",
    "# MAPE\n",
    "test_mape = mean_absolute_percentage_error(y_test,y_pred)\n",
    "print('Testing MAPE:', test_mape)\n",
    "# MAE\n",
    "test_mae = mean_absolute_error(y_test,y_pred)\n",
    "print('Testing MAE:', test_mae)\n",
    "\n",
    "# 9.Vẽ hình\n",
    "\n",
    "plt.plot(y_train_index, y_train)\n",
    "plt.plot(y_test.index, y_test)\n",
    "plt.plot(y_test.index, y_pred)\n",
    "plt.plot(next_30_dates,x_next_30_days)\n",
    "plt.legend(['Train', 'Test', 'Predictions','Next30Day'])\n",
    "plt.show()"
   ]
  }
 ],
 "metadata": {
  "colab": {
   "provenance": []
  },
  "kernelspec": {
   "display_name": "Python 3 (ipykernel)",
   "language": "python",
   "name": "python3"
  },
  "language_info": {
   "codemirror_mode": {
    "name": "ipython",
    "version": 3
   },
   "file_extension": ".py",
   "mimetype": "text/x-python",
   "name": "python",
   "nbconvert_exporter": "python",
   "pygments_lexer": "ipython3",
   "version": "3.11.5"
  }
 },
 "nbformat": 4,
 "nbformat_minor": 1
}
