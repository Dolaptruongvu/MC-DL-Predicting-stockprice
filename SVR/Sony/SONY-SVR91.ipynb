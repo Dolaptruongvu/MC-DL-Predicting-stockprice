{
 "cells": [
  {
   "cell_type": "code",
   "execution_count": 13,
   "metadata": {
    "colab": {
     "base_uri": "https://localhost:8080/",
     "height": 455
    },
    "id": "DewQquJ1zXi_",
    "outputId": "dc507c84-0a1f-4af5-d3b1-d2460e4a5f5a"
   },
   "outputs": [
    {
     "data": {
      "text/html": [
       "<div>\n",
       "<style scoped>\n",
       "    .dataframe tbody tr th:only-of-type {\n",
       "        vertical-align: middle;\n",
       "    }\n",
       "\n",
       "    .dataframe tbody tr th {\n",
       "        vertical-align: top;\n",
       "    }\n",
       "\n",
       "    .dataframe thead th {\n",
       "        text-align: right;\n",
       "    }\n",
       "</style>\n",
       "<table border=\"1\" class=\"dataframe\">\n",
       "  <thead>\n",
       "    <tr style=\"text-align: right;\">\n",
       "      <th></th>\n",
       "      <th>Price</th>\n",
       "      <th>Open</th>\n",
       "      <th>High</th>\n",
       "      <th>Low</th>\n",
       "      <th>Vol.</th>\n",
       "      <th>Change %</th>\n",
       "    </tr>\n",
       "  </thead>\n",
       "  <tbody>\n",
       "    <tr>\n",
       "      <th>0</th>\n",
       "      <td>45.79</td>\n",
       "      <td>45.44</td>\n",
       "      <td>45.81</td>\n",
       "      <td>45.24</td>\n",
       "      <td>844.22K</td>\n",
       "      <td>1.87%</td>\n",
       "    </tr>\n",
       "    <tr>\n",
       "      <th>1</th>\n",
       "      <td>46.30</td>\n",
       "      <td>45.93</td>\n",
       "      <td>46.36</td>\n",
       "      <td>45.90</td>\n",
       "      <td>613.23K</td>\n",
       "      <td>1.11%</td>\n",
       "    </tr>\n",
       "    <tr>\n",
       "      <th>2</th>\n",
       "      <td>47.25</td>\n",
       "      <td>46.81</td>\n",
       "      <td>47.26</td>\n",
       "      <td>46.80</td>\n",
       "      <td>770.67K</td>\n",
       "      <td>2.05%</td>\n",
       "    </tr>\n",
       "    <tr>\n",
       "      <th>3</th>\n",
       "      <td>48.70</td>\n",
       "      <td>48.18</td>\n",
       "      <td>48.79</td>\n",
       "      <td>48.17</td>\n",
       "      <td>1.36M</td>\n",
       "      <td>3.07%</td>\n",
       "    </tr>\n",
       "    <tr>\n",
       "      <th>4</th>\n",
       "      <td>49.00</td>\n",
       "      <td>48.80</td>\n",
       "      <td>49.01</td>\n",
       "      <td>48.73</td>\n",
       "      <td>618.86K</td>\n",
       "      <td>0.62%</td>\n",
       "    </tr>\n",
       "    <tr>\n",
       "      <th>...</th>\n",
       "      <td>...</td>\n",
       "      <td>...</td>\n",
       "      <td>...</td>\n",
       "      <td>...</td>\n",
       "      <td>...</td>\n",
       "      <td>...</td>\n",
       "    </tr>\n",
       "    <tr>\n",
       "      <th>1490</th>\n",
       "      <td>85.32</td>\n",
       "      <td>85.27</td>\n",
       "      <td>85.53</td>\n",
       "      <td>84.62</td>\n",
       "      <td>1.03M</td>\n",
       "      <td>-0.95%</td>\n",
       "    </tr>\n",
       "    <tr>\n",
       "      <th>1491</th>\n",
       "      <td>86.40</td>\n",
       "      <td>85.88</td>\n",
       "      <td>86.69</td>\n",
       "      <td>85.86</td>\n",
       "      <td>811.89K</td>\n",
       "      <td>1.27%</td>\n",
       "    </tr>\n",
       "    <tr>\n",
       "      <th>1492</th>\n",
       "      <td>88.40</td>\n",
       "      <td>89.00</td>\n",
       "      <td>89.54</td>\n",
       "      <td>88.40</td>\n",
       "      <td>2.17M</td>\n",
       "      <td>2.31%</td>\n",
       "    </tr>\n",
       "    <tr>\n",
       "      <th>1493</th>\n",
       "      <td>88.51</td>\n",
       "      <td>87.98</td>\n",
       "      <td>88.62</td>\n",
       "      <td>87.37</td>\n",
       "      <td>850.75K</td>\n",
       "      <td>0.12%</td>\n",
       "    </tr>\n",
       "    <tr>\n",
       "      <th>1494</th>\n",
       "      <td>89.30</td>\n",
       "      <td>88.37</td>\n",
       "      <td>89.48</td>\n",
       "      <td>88.37</td>\n",
       "      <td>647.69K</td>\n",
       "      <td>0.89%</td>\n",
       "    </tr>\n",
       "  </tbody>\n",
       "</table>\n",
       "<p>1495 rows × 6 columns</p>\n",
       "</div>"
      ],
      "text/plain": [
       "      Price   Open   High    Low     Vol. Change %\n",
       "0     45.79  45.44  45.81  45.24  844.22K    1.87%\n",
       "1     46.30  45.93  46.36  45.90  613.23K    1.11%\n",
       "2     47.25  46.81  47.26  46.80  770.67K    2.05%\n",
       "3     48.70  48.18  48.79  48.17    1.36M    3.07%\n",
       "4     49.00  48.80  49.01  48.73  618.86K    0.62%\n",
       "...     ...    ...    ...    ...      ...      ...\n",
       "1490  85.32  85.27  85.53  84.62    1.03M   -0.95%\n",
       "1491  86.40  85.88  86.69  85.86  811.89K    1.27%\n",
       "1492  88.40  89.00  89.54  88.40    2.17M    2.31%\n",
       "1493  88.51  87.98  88.62  87.37  850.75K    0.12%\n",
       "1494  89.30  88.37  89.48  88.37  647.69K    0.89%\n",
       "\n",
       "[1495 rows x 6 columns]"
      ]
     },
     "execution_count": 13,
     "metadata": {},
     "output_type": "execute_result"
    }
   ],
   "source": [
    "import pandas as pd\n",
    "import matplotlib.pyplot as plt\n",
    "import numpy as np\n",
    "import warnings\n",
    "warnings.filterwarnings('ignore')\n",
    "# Đọc dữ liệu từ tập tin CSV với các tùy chọn\n",
    "df = pd.read_csv('SONY.csv', header=0, parse_dates=[0], index_col=0)\n",
    "df = df.dropna() # Drop missing values\n",
    "df = df.reset_index(drop=True) # Reset the index\n",
    "# In ra 5 dòng đầu tiên của DataFrame\n",
    "df\n"
   ]
  },
  {
   "cell_type": "code",
   "execution_count": 14,
   "metadata": {
    "id": "gJuOh8-y_Uif"
   },
   "outputs": [],
   "source": [
    "# 2.  chia train test validate theo tỉ lệ 9:1\n",
    "# Split the data into training, testing\n",
    "train_size = int(0.9 * len(df))\n",
    "test_size = int(0.1 * len(df))\n",
    "\n",
    "\n",
    "X2D = df[['High']] # Biến độc lập theo mảng 2 chiều\n",
    "Y2D = df[['Price']] # Biến phụ thuộc theo mảng 2 chiều\n",
    "\n"
   ]
  },
  {
   "cell_type": "code",
   "execution_count": 15,
   "metadata": {
    "colab": {
     "base_uri": "https://localhost:8080/",
     "height": 387
    },
    "id": "JbQNK8an_imI",
    "outputId": "8a54dfde-fd22-4b5d-f277-bf09c0c29b62"
   },
   "outputs": [
    {
     "name": "stdout",
     "output_type": "stream",
     "text": [
      "Best parameters: {'C': 1000, 'epsilon': 1, 'gamma': 0.001}\n",
      "Best score: 0.8410890456227935\n"
     ]
    }
   ],
   "source": [
    "from sklearn.svm import SVR\n",
    "from sklearn.model_selection import GridSearchCV\n",
    "from sklearn.model_selection import cross_val_score\n",
    "\n",
    "y_train = Y2D[:train_size]\n",
    "x_train = X2D[:train_size]\n",
    "y_test = Y2D[train_size:]\n",
    "x_test = X2D[train_size:]\n",
    "y_train_index = y_train.index # lấy ra index trước khi đổi nó về mảng 2 chiều ( phục vụ plot )\n",
    "y_train = Y2D[:train_size].values.ravel()\n",
    "\n",
    "# Tạo mô hình SVR với kernel RBF\n",
    "model = SVR(kernel='rbf')\n",
    "param_grid = {\n",
    "    'C': [0.1, 1, 10, 100, 1000],             # Ví dụ các giá trị cho C\n",
    "    'gamma': ['scale', 'auto', 0.001, 0.01, 0.1, 1],  # Ví dụ các giá trị cho gamma\n",
    "    'epsilon': [0.001, 0.01, 0.1, 1, 10]      # Ví dụ các giá trị cho epsilon\n",
    "}\n",
    "\n",
    "# Tạo đối tượng GridSearchCV\n",
    "grid_search = GridSearchCV(model, param_grid, cv=5, scoring='neg_mean_squared_error', n_jobs=-1)\n",
    "\n",
    "# Huấn luyện mô hình sử dụng grid search\n",
    "svr_rbf = grid_search.fit(x_train,y_train)\n",
    "\n",
    "# In ra kết quả tốt nhất\n",
    "print(\"Best parameters:\", grid_search.best_params_)\n",
    "print(\"Best score:\", -grid_search.best_score_)\n"
   ]
  },
  {
   "cell_type": "code",
   "execution_count": 16,
   "metadata": {
    "id": "tq3vSOvd_xL3"
   },
   "outputs": [
    {
     "data": {
      "text/plain": [
       "array([91.42125094, 93.00709207, 92.43837931, 92.52816139, 94.25498401,\n",
       "       94.0352901 , 93.17674984, 94.80432416, 98.06219939, 97.40253319,\n",
       "       97.40253319, 94.48469052, 93.85555997, 94.464715  , 95.54363906,\n",
       "       95.13399293, 93.40631602, 95.95333868, 97.77234897, 98.0122257 ,\n",
       "       99.15152928, 97.71237917, 96.32310398, 97.96225177, 98.46197791,\n",
       "       99.85095075, 99.800997  , 98.66185791, 97.57244902, 95.92335909,\n",
       "       94.34486602, 92.98713356, 90.41484117, 90.0861747 , 89.30962833,\n",
       "       90.4746071 , 89.23000561, 89.71776119, 91.01261829, 90.69377116,\n",
       "       89.76754126, 90.78343934, 89.79741012, 89.32953467, 91.45115573,\n",
       "       93.04700986, 92.13914659, 93.20669137, 94.33487893, 93.91546801,\n",
       "       92.77758515, 92.87736646, 92.83745314, 92.70774222, 92.98713356,\n",
       "       94.10518993, 93.0869287 , 93.27655715, 92.83745314, 91.10230757,\n",
       "       89.13048301, 90.28535721, 89.64807197, 89.50870349, 89.23995823,\n",
       "       85.94843853, 84.74596047, 82.96683389, 82.68845094, 82.15147431,\n",
       "       82.46969869, 81.98239728, 81.65414567, 81.78346392, 81.75362207,\n",
       "       81.3457328 , 80.66901047, 81.22633204, 81.81330529, 81.8232523 ,\n",
       "       82.41997929, 84.92483908, 84.14967829, 85.04409094, 84.31862942,\n",
       "       83.61297307, 84.58695566, 84.59689352, 83.8912726 , 85.83911731,\n",
       "       86.44538185, 85.83911731, 85.91862347, 84.92483908, 82.38020295,\n",
       "       82.10174728, 82.3603145 , 81.57456052, 82.27081415, 82.15147431,\n",
       "       82.05201901, 81.02731131, 81.02731131, 80.90788691, 82.13158365,\n",
       "       82.32053704, 82.59896392, 84.13973984, 84.93477675, 86.21678137,\n",
       "       84.80558684, 84.42794854, 85.33228331, 84.24906185, 83.88133365,\n",
       "       82.92706677, 82.59896392, 83.29489072, 83.11595533, 80.7984065 ,\n",
       "       79.93223235, 81.02731131, 82.24097985, 84.16955513, 85.73973591,\n",
       "       86.90262526, 86.2565371 , 86.98215259, 87.79745029, 84.57701779,\n",
       "       85.23290639, 82.56913414, 84.29875305, 87.15115563, 86.57459662,\n",
       "       86.63423577, 86.56465686, 86.42550304, 86.93244775, 85.72979784,\n",
       "       86.06770032, 86.55471713, 86.02794611, 85.61054193, 85.31240789,\n",
       "       84.48757653, 85.64035576, 88.47378849, 87.55879727, 88.41410168])"
      ]
     },
     "execution_count": 16,
     "metadata": {},
     "output_type": "execute_result"
    }
   ],
   "source": [
    "\n",
    "\n",
    "y_pred = svr_rbf.predict(x_test)\n",
    "y_pred\n"
   ]
  },
  {
   "cell_type": "code",
   "execution_count": 17,
   "metadata": {
    "colab": {
     "base_uri": "https://localhost:8080/"
    },
    "id": "mI2qmayj_-rD",
    "outputId": "d648e73b-f491-41e3-9835-906ee8eb8f6d"
   },
   "outputs": [
    {
     "data": {
      "text/plain": [
       "array([[89.3]])"
      ]
     },
     "execution_count": 17,
     "metadata": {},
     "output_type": "execute_result"
    }
   ],
   "source": [
    "last_row = df.tail(1)\n",
    "last_data = last_row['Price'].values.reshape(-1,1)\n",
    "last_data"
   ]
  },
  {
   "cell_type": "code",
   "execution_count": 18,
   "metadata": {},
   "outputs": [
    {
     "data": {
      "text/plain": [
       "[array([88.23505316]),\n",
       " array([87.17606276]),\n",
       " array([86.1234191]),\n",
       " array([85.07730167]),\n",
       " array([84.03767262]),\n",
       " array([83.00428663]),\n",
       " array([81.97671467]),\n",
       " array([80.95437859]),\n",
       " array([79.93659299]),\n",
       " array([78.92261103]),\n",
       " array([77.91167097]),\n",
       " array([76.9030406]),\n",
       " array([75.89605711]),\n",
       " array([74.89016006]),\n",
       " array([73.88491542]),\n",
       " array([72.88002899]),\n",
       " array([71.87534771]),\n",
       " array([70.87084833]),\n",
       " array([69.86661325]),\n",
       " array([68.86279475]),\n",
       " array([67.85956985]),\n",
       " array([66.85708893]),\n",
       " array([65.85542267]),\n",
       " array([64.85451193]),\n",
       " array([63.85412601]),\n",
       " array([62.85383422]),\n",
       " array([61.85299574]),\n",
       " array([60.85077236]),\n",
       " array([59.84616872]),\n",
       " array([58.8381052])]"
      ]
     },
     "execution_count": 18,
     "metadata": {},
     "output_type": "execute_result"
    }
   ],
   "source": [
    "# tạo mảng chứa giá trị predict của 30 ngày tiếp theo\n",
    "x_next_30_days = []\n",
    "# predict giá Close 30 ngày tiếp theo dựa vào giá Close của ngày trước đó\n",
    "for i in range(30):\n",
    "    x_pred_next = svr_rbf.predict(last_data)\n",
    "    x_next_30_days.append(x_pred_next)\n",
    "    last_data = x_pred_next.reshape(-1,1)\n",
    "x_next_30_days"
   ]
  },
  {
   "cell_type": "code",
   "execution_count": 19,
   "metadata": {},
   "outputs": [
    {
     "data": {
      "image/png": "[encoded data removed]",
      "text/plain": [
       "<Figure size 1000x600 with 1 Axes>"
      ]
     },
     "metadata": {},
     "output_type": "display_data"
    }
   ],
   "source": [
    "\n",
    "# Vẽ biểu đồ\n",
    "plt.figure(figsize=(10, 6)) # Set the figure size\n",
    "plt.plot(x_next_30_days, marker='o', color='b', label='Predicted Next 30 Days')\n",
    "\n",
    "# Đặt tiêu đề và nhãn\n",
    "plt.title('Predicted Values for the Next 30 Days')\n",
    "plt.xlabel('Date')\n",
    "plt.ylabel('Predicted Value')\n",
    "plt.xticks(rotation=45) # Rotate x-axis labels for better readability\n",
    "plt.legend()\n",
    "\n",
    "# Hiển thị biểu đồ\n",
    "plt.show()"
   ]
  },
  {
   "cell_type": "code",
   "execution_count": 20,
   "metadata": {},
   "outputs": [],
   "source": [
    "# Chuyển cột predict price thành mảng 2 chiều\n",
    "y_pred = y_pred.reshape(-1,1)"
   ]
  },
  {
   "cell_type": "code",
   "execution_count": 21,
   "metadata": {
    "colab": {
     "base_uri": "https://localhost:8080/"
    },
    "id": "JwcVt4wgAHCy",
    "outputId": "72abb27d-2114-49e5-ec95-6922e37d60a9"
   },
   "outputs": [
    {
     "name": "stdout",
     "output_type": "stream",
     "text": [
      "Testing RMSE: 0.8004859813019464\n",
      "Testing MAPE: 0.006942142631755086\n",
      "Testing MAE: 0.6105449409664956\n"
     ]
    }
   ],
   "source": [
    "from sklearn.metrics import mean_absolute_percentage_error,mean_absolute_error\n",
    "# 7. Đánh giá độ chính xác test bằng RMSE, MAE , MAPE\n",
    "# RMSE\n",
    "test_rmse = np.sqrt(np.mean((y_pred - y_test)**2))\n",
    "print('Testing RMSE:', test_rmse)\n",
    "# MAPE\n",
    "test_mape = mean_absolute_percentage_error(y_test,y_pred)\n",
    "print('Testing MAPE:', test_mape)\n",
    "# MAE\n",
    "test_mae = mean_absolute_error(y_test,y_pred)\n",
    "print('Testing MAE:', test_mae)"
   ]
  },
  {
   "cell_type": "code",
   "execution_count": 22,
   "metadata": {},
   "outputs": [],
   "source": [
    "# Tạo index cho 30 ngày tiếp theo\n",
    "last_index =  df.index[-1]\n",
    "next_30_dates = pd.RangeIndex(start=last_index, stop=last_index+30, step=1)"
   ]
  },
  {
   "cell_type": "code",
   "execution_count": 23,
   "metadata": {
    "colab": {
     "base_uri": "https://localhost:8080/",
     "height": 465
    },
    "id": "DE3Pge7a0EHs",
    "outputId": "df98bb23-fd48-47c6-c83d-e9f5cfbf1ca0"
   },
   "outputs": [
    {
     "name": "stdout",
     "output_type": "stream",
     "text": [
      "Testing RMSE: 0.8004859813019464\n",
      "Testing MAPE: 0.006942142631755086\n",
      "Testing MAE: 0.6105449409664956\n"
     ]
    },
    {
     "data": {
      "image/png": "[encoded data removed]",
      "text/plain": [
       "<Figure size 640x480 with 1 Axes>"
      ]
     },
     "metadata": {},
     "output_type": "display_data"
    }
   ],
   "source": [
    "# 8. Tính RMSE\n",
    "test_rmse = np.sqrt(np.mean((y_pred - y_test)**2))\n",
    "print('Testing RMSE:', test_rmse)\n",
    "# MAPE\n",
    "test_mape = mean_absolute_percentage_error(y_test,y_pred)\n",
    "print('Testing MAPE:', test_mape)\n",
    "# MAE\n",
    "test_mae = mean_absolute_error(y_test,y_pred)\n",
    "print('Testing MAE:', test_mae)\n",
    "\n",
    "# 9.Vẽ hình\n",
    "\n",
    "plt.plot(y_train_index, y_train)\n",
    "plt.plot(y_test.index, y_test)\n",
    "plt.plot(y_test.index, y_pred)\n",
    "plt.plot(next_30_dates,x_next_30_days)\n",
    "plt.legend(['Train', 'Test', 'Predictions','Next30Day'])\n",
    "plt.show()"
   ]
  }
 ],
 "metadata": {
  "colab": {
   "provenance": []
  },
  "kernelspec": {
   "display_name": "Python 3 (ipykernel)",
   "language": "python",
   "name": "python3"
  },
  "language_info": {
   "codemirror_mode": {
    "name": "ipython",
    "version": 3
   },
   "file_extension": ".py",
   "mimetype": "text/x-python",
   "name": "python",
   "nbconvert_exporter": "python",
   "pygments_lexer": "ipython3",
   "version": "3.11.5"
  }
 },
 "nbformat": 4,
 "nbformat_minor": 1
}
