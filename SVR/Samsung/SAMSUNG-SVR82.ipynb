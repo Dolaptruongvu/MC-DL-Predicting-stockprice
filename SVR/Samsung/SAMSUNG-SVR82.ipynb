{
 "cells": [
  {
   "cell_type": "code",
   "execution_count": 2,
   "metadata": {
    "colab": {
     "base_uri": "https://localhost:8080/",
     "height": 455
    },
    "id": "DewQquJ1zXi_",
    "outputId": "dc507c84-0a1f-4af5-d3b1-d2460e4a5f5a"
   },
   "outputs": [
    {
     "data": {
      "text/html": [
       "<div>\n",
       "<style scoped>\n",
       "    .dataframe tbody tr th:only-of-type {\n",
       "        vertical-align: middle;\n",
       "    }\n",
       "\n",
       "    .dataframe tbody tr th {\n",
       "        vertical-align: top;\n",
       "    }\n",
       "\n",
       "    .dataframe thead th {\n",
       "        text-align: right;\n",
       "    }\n",
       "</style>\n",
       "<table border=\"1\" class=\"dataframe\">\n",
       "  <thead>\n",
       "    <tr style=\"text-align: right;\">\n",
       "      <th></th>\n",
       "      <th>Date</th>\n",
       "      <th>Price</th>\n",
       "      <th>Open</th>\n",
       "      <th>High</th>\n",
       "      <th>Low</th>\n",
       "      <th>Vol.</th>\n",
       "      <th>Change %</th>\n",
       "    </tr>\n",
       "  </thead>\n",
       "  <tbody>\n",
       "    <tr>\n",
       "      <th>0</th>\n",
       "      <td>1/2/2018</td>\n",
       "      <td>51.02</td>\n",
       "      <td>51.38</td>\n",
       "      <td>51.40</td>\n",
       "      <td>50.78</td>\n",
       "      <td>8.46M</td>\n",
       "      <td>0.12%</td>\n",
       "    </tr>\n",
       "    <tr>\n",
       "      <th>1</th>\n",
       "      <td>1/3/2018</td>\n",
       "      <td>51.62</td>\n",
       "      <td>52.54</td>\n",
       "      <td>52.56</td>\n",
       "      <td>51.42</td>\n",
       "      <td>9.92M</td>\n",
       "      <td>1.18%</td>\n",
       "    </tr>\n",
       "    <tr>\n",
       "      <th>2</th>\n",
       "      <td>1/4/2018</td>\n",
       "      <td>51.08</td>\n",
       "      <td>52.12</td>\n",
       "      <td>52.18</td>\n",
       "      <td>50.64</td>\n",
       "      <td>11.64M</td>\n",
       "      <td>-1.05%</td>\n",
       "    </tr>\n",
       "    <tr>\n",
       "      <th>3</th>\n",
       "      <td>1/5/2018</td>\n",
       "      <td>52.12</td>\n",
       "      <td>51.30</td>\n",
       "      <td>52.12</td>\n",
       "      <td>51.20</td>\n",
       "      <td>9.33M</td>\n",
       "      <td>2.04%</td>\n",
       "    </tr>\n",
       "    <tr>\n",
       "      <th>4</th>\n",
       "      <td>1/8/2018</td>\n",
       "      <td>52.02</td>\n",
       "      <td>52.40</td>\n",
       "      <td>52.52</td>\n",
       "      <td>51.50</td>\n",
       "      <td>8.36M</td>\n",
       "      <td>-0.19%</td>\n",
       "    </tr>\n",
       "    <tr>\n",
       "      <th>...</th>\n",
       "      <td>...</td>\n",
       "      <td>...</td>\n",
       "      <td>...</td>\n",
       "      <td>...</td>\n",
       "      <td>...</td>\n",
       "      <td>...</td>\n",
       "      <td>...</td>\n",
       "    </tr>\n",
       "    <tr>\n",
       "      <th>1456</th>\n",
       "      <td>12/4/2023</td>\n",
       "      <td>72.60</td>\n",
       "      <td>72.70</td>\n",
       "      <td>72.90</td>\n",
       "      <td>72.50</td>\n",
       "      <td>0.55K</td>\n",
       "      <td>0.83%</td>\n",
       "    </tr>\n",
       "    <tr>\n",
       "      <th>1457</th>\n",
       "      <td>12/5/2023</td>\n",
       "      <td>71.20</td>\n",
       "      <td>72.30</td>\n",
       "      <td>72.40</td>\n",
       "      <td>71.20</td>\n",
       "      <td>0.45K</td>\n",
       "      <td>-1.93%</td>\n",
       "    </tr>\n",
       "    <tr>\n",
       "      <th>1458</th>\n",
       "      <td>12/6/2023</td>\n",
       "      <td>71.70</td>\n",
       "      <td>71.90</td>\n",
       "      <td>72.10</td>\n",
       "      <td>71.60</td>\n",
       "      <td>0.25K</td>\n",
       "      <td>0.70%</td>\n",
       "    </tr>\n",
       "    <tr>\n",
       "      <th>1459</th>\n",
       "      <td>12/7/2023</td>\n",
       "      <td>71.50</td>\n",
       "      <td>71.80</td>\n",
       "      <td>71.90</td>\n",
       "      <td>71.10</td>\n",
       "      <td>0.06K</td>\n",
       "      <td>-0.28%</td>\n",
       "    </tr>\n",
       "    <tr>\n",
       "      <th>1460</th>\n",
       "      <td>12/8/2023</td>\n",
       "      <td>72.60</td>\n",
       "      <td>72.10</td>\n",
       "      <td>72.80</td>\n",
       "      <td>71.90</td>\n",
       "      <td>10.12M</td>\n",
       "      <td>1.54%</td>\n",
       "    </tr>\n",
       "  </tbody>\n",
       "</table>\n",
       "<p>1461 rows × 7 columns</p>\n",
       "</div>"
      ],
      "text/plain": [
       "           Date  Price   Open   High    Low    Vol. Change %\n",
       "0      1/2/2018  51.02  51.38  51.40  50.78   8.46M    0.12%\n",
       "1      1/3/2018  51.62  52.54  52.56  51.42   9.92M    1.18%\n",
       "2      1/4/2018  51.08  52.12  52.18  50.64  11.64M   -1.05%\n",
       "3      1/5/2018  52.12  51.30  52.12  51.20   9.33M    2.04%\n",
       "4      1/8/2018  52.02  52.40  52.52  51.50   8.36M   -0.19%\n",
       "...         ...    ...    ...    ...    ...     ...      ...\n",
       "1456  12/4/2023  72.60  72.70  72.90  72.50   0.55K    0.83%\n",
       "1457  12/5/2023  71.20  72.30  72.40  71.20   0.45K   -1.93%\n",
       "1458  12/6/2023  71.70  71.90  72.10  71.60   0.25K    0.70%\n",
       "1459  12/7/2023  71.50  71.80  71.90  71.10   0.06K   -0.28%\n",
       "1460  12/8/2023  72.60  72.10  72.80  71.90  10.12M    1.54%\n",
       "\n",
       "[1461 rows x 7 columns]"
      ]
     },
     "execution_count": 2,
     "metadata": {},
     "output_type": "execute_result"
    }
   ],
   "source": [
    "import pandas as pd\n",
    "import matplotlib.pyplot as plt\n",
    "import numpy as np\n",
    "import warnings\n",
    "warnings.filterwarnings('ignore')\n",
    "# Đọc dữ liệu từ tập tin CSV với các tùy chọn\n",
    "df = pd.read_csv('SAMSUNG.csv', header=0, parse_dates=[0], index_col=0)\n",
    "df = df.dropna() # Drop missing values\n",
    "df = df.reset_index(drop=True) # Reset the index\n",
    "# In ra 5 dòng đầu tiên của DataFrame\n",
    "df\n"
   ]
  },
  {
   "cell_type": "code",
   "execution_count": 3,
   "metadata": {
    "id": "gJuOh8-y_Uif"
   },
   "outputs": [],
   "source": [
    "# 2.  chia train test validate theo tỉ lệ 8:2\n",
    "# Split the data into training, testing\n",
    "train_size = int(0.8 * len(df))\n",
    "test_size = int(0.2 * len(df))\n",
    "\n",
    "\n",
    "X2D = df[['High']] # Biến độc lập theo mảng 2 chiều\n",
    "Y2D = df[['Price']] # Biến phụ thuộc theo mảng 2 chiều\n",
    "\n"
   ]
  },
  {
   "cell_type": "code",
   "execution_count": 4,
   "metadata": {
    "colab": {
     "base_uri": "https://localhost:8080/",
     "height": 387
    },
    "id": "JbQNK8an_imI",
    "outputId": "8a54dfde-fd22-4b5d-f277-bf09c0c29b62"
   },
   "outputs": [
    {
     "name": "stdout",
     "output_type": "stream",
     "text": [
      "Best parameters: {'C': 1000, 'epsilon': 0.1, 'gamma': 0.001}\n",
      "Best score: 0.2827621550039331\n"
     ]
    }
   ],
   "source": [
    "from sklearn.svm import SVR\n",
    "from sklearn.model_selection import GridSearchCV\n",
    "from sklearn.model_selection import cross_val_score\n",
    "\n",
    "y_train = Y2D[:train_size]\n",
    "x_train = X2D[:train_size]\n",
    "y_test = Y2D[train_size:]\n",
    "x_test = X2D[train_size:]\n",
    "y_train_index = y_train.index # lấy ra index trước khi đổi nó về mảng 2 chiều ( phục vụ plot )\n",
    "y_train = Y2D[:train_size].values.ravel()\n",
    "\n",
    "# Tạo mô hình SVR với kernel RBF\n",
    "model = SVR(kernel='rbf')\n",
    "param_grid = {\n",
    "    'C': [0.1, 1, 10, 100, 1000],             # Ví dụ các giá trị cho C\n",
    "    'gamma': ['scale', 'auto', 0.001, 0.01, 0.1, 1],  # Ví dụ các giá trị cho gamma\n",
    "    'epsilon': [0.001, 0.01, 0.1, 1, 10]      # Ví dụ các giá trị cho epsilon\n",
    "}\n",
    "\n",
    "# Tạo đối tượng GridSearchCV\n",
    "grid_search = GridSearchCV(model, param_grid, cv=5, scoring='neg_mean_squared_error', n_jobs=-1)\n",
    "\n",
    "# Huấn luyện mô hình sử dụng grid search\n",
    "svr_rbf = grid_search.fit(x_train,y_train)\n",
    "\n",
    "# In ra kết quả tốt nhất\n",
    "print(\"Best parameters:\", grid_search.best_params_)\n",
    "print(\"Best score:\", -grid_search.best_score_)\n"
   ]
  },
  {
   "cell_type": "code",
   "execution_count": 5,
   "metadata": {
    "id": "tq3vSOvd_xL3"
   },
   "outputs": [
    {
     "data": {
      "text/plain": [
       "array([56.68939358, 56.78924214, 56.38995736, 55.09449902, 56.48975081,\n",
       "       55.59232567, 55.990978  , 56.38995736, 56.58956301, 56.38995736,\n",
       "       55.49271598, 55.7916097 , 56.98899173, 58.08872889, 59.08977782,\n",
       "       59.59061631, 58.68924146, 59.39026166, 59.79099249, 59.49043608,\n",
       "       59.29009352, 58.98963117, 59.79099249, 61.39437078, 61.69499909,\n",
       "       60.99350984, 62.69687116, 62.39635521, 61.89540474, 62.19598733,\n",
       "       61.49458244, 61.89540474, 61.29415735, 60.69285911, 60.79307576,\n",
       "       61.19394248, 61.19394248, 59.99138668, 60.09158945, 61.69499909,\n",
       "       62.69687116, 61.99560268, 60.59264324, 59.59061631, 59.08977782,\n",
       "       58.68924146, 60.09158945, 59.49043608, 59.79099249, 60.09158945,\n",
       "       59.69080193, 58.98963117, 59.39026166, 58.58912981, 58.58912981,\n",
       "       58.58912981, 57.88865035, 57.58863134, 57.88865035, 57.08889197,\n",
       "       55.691957  , 55.59232567, 55.49271598, 57.4886531 , 58.18878659,\n",
       "       58.88949259, 60.19179544, 60.59264324, 60.69285911, 60.69285911,\n",
       "       60.69285911, 61.09372652, 60.99350984, 60.49242853, 60.99350984,\n",
       "       61.79520345, 63.19762078, 63.39787763, 64.49879646, 64.39874903,\n",
       "       63.19762078, 62.09579697, 63.39787763, 63.49799623, 62.49653221,\n",
       "       61.99560268, 62.79703266, 62.79703266, 62.49653221, 62.49653221,\n",
       "       63.39787763, 63.39787763, 63.19762078, 62.79703266, 62.49653221,\n",
       "       62.2961735 , 61.29415735, 61.99560268, 62.09579697, 60.29200423,\n",
       "       60.89329279, 61.29415735, 60.69285911, 61.09372652, 60.89329279,\n",
       "       59.99138668, 60.29200423, 59.18993208, 59.69080193, 58.98963117,\n",
       "       59.79099249, 59.69080193, 60.79307576, 60.69285911, 60.19179544,\n",
       "       60.69285911, 61.79520345, 62.79703266, 62.2961735 , 62.39635521,\n",
       "       62.19598733, 63.19762078, 63.49799623, 63.49799623, 63.29775244,\n",
       "       63.49799623, 63.0974828 , 64.69886921, 65.79875487, 65.69879976,\n",
       "       65.69879976, 65.59883807, 66.09858208, 65.09892678, 65.49886967,\n",
       "       65.29891228, 64.79889455, 65.39889444, 65.19892308, 64.89891257,\n",
       "       63.79831114, 64.49879646, 65.39889444, 65.79875487, 65.09892678,\n",
       "       65.19892308, 65.79875487, 65.29891228, 64.9989233 , 64.59883652,\n",
       "       64.0985627 , 64.0985627 , 65.39889444, 65.39889444, 65.69879976,\n",
       "       67.89661909, 68.4957764 , 68.19620029, 68.19620029, 69.49443958,\n",
       "       69.89398968, 71.79322707, 71.99331887, 71.0931872 , 71.69319495,\n",
       "       72.19344791, 71.0931872 , 70.39354065, 71.79322707, 71.89326835,\n",
       "       71.69319495, 71.69319495, 71.79322707, 71.39315231, 71.19316724,\n",
       "       70.89325115, 70.69334568, 70.99321524, 71.69319495, 71.99331887,\n",
       "       72.0933787 , 72.19344791, 72.89419543, 72.19344791, 72.69393516,\n",
       "       73.09449203, 72.79406069, 71.79322707, 70.89325115, 69.89398968,\n",
       "       70.99321524, 71.4931577 , 72.0933787 , 72.89419543, 72.99433925,\n",
       "       72.99433925, 72.19344791, 70.99321524, 69.89398968, 70.29361879,\n",
       "       69.99388879, 70.09379315, 71.19316724, 71.89326835, 70.4934689 ,\n",
       "       70.69334568, 70.4934689 , 69.69420598, 68.59563548, 68.69549529,\n",
       "       68.59563548, 68.99508238, 67.99648058, 68.29605913, 67.39728301,\n",
       "       66.5981772 , 66.29843675, 66.19851231, 66.5981772 , 67.09764797,\n",
       "       66.5981772 , 68.09634088, 66.89787277, 66.49826899, 66.69808041,\n",
       "       67.19752975, 66.69808041, 70.4934689 , 72.29352653, 70.99321524,\n",
       "       70.29361879, 70.09379315, 69.79409551, 70.29361879, 70.4934689 ,\n",
       "       70.99321524, 71.29315555, 71.79322707, 71.19316724, 70.29361879,\n",
       "       69.79409551, 69.29468792, 68.39591773, 69.19481681, 69.39456207,\n",
       "       68.59563548, 67.19752975, 66.89787277, 66.79797886, 67.09764797,\n",
       "       68.89521841, 69.19481681, 67.99648058, 67.99648058, 69.29468792,\n",
       "       69.99388879, 69.49443958, 68.69549529, 68.59563548, 68.29605913,\n",
       "       68.29605913, 67.39728301, 66.79797886, 67.29740801, 67.69689128,\n",
       "       68.29605913, 69.49443958, 69.69420598, 70.39354065, 70.39354065,\n",
       "       70.89325115, 70.29361879, 69.99388879, 70.7932947 , 70.59340383,\n",
       "       71.69319495, 72.49371205, 72.49371205, 72.49371205, 72.89419543,\n",
       "       72.49371205, 72.69393516, 72.0933787 , 71.59317186, 72.19344791,\n",
       "       72.29352653, 72.29352653, 71.99331887, 72.39361458, 71.89326835,\n",
       "       71.59317186, 71.39315231, 72.29352653])"
      ]
     },
     "execution_count": 5,
     "metadata": {},
     "output_type": "execute_result"
    }
   ],
   "source": [
    "\n",
    "\n",
    "y_pred = svr_rbf.predict(x_test)\n",
    "y_pred\n"
   ]
  },
  {
   "cell_type": "code",
   "execution_count": 6,
   "metadata": {
    "colab": {
     "base_uri": "https://localhost:8080/"
    },
    "id": "mI2qmayj_-rD",
    "outputId": "d648e73b-f491-41e3-9835-906ee8eb8f6d"
   },
   "outputs": [
    {
     "data": {
      "text/plain": [
       "array([[72.6]])"
      ]
     },
     "execution_count": 6,
     "metadata": {},
     "output_type": "execute_result"
    }
   ],
   "source": [
    "last_row = df.tail(1)\n",
    "last_data = last_row['Price'].values.reshape(-1,1)\n",
    "last_data"
   ]
  },
  {
   "cell_type": "code",
   "execution_count": 7,
   "metadata": {},
   "outputs": [
    {
     "data": {
      "text/plain": [
       "[array([72.0933787]),\n",
       " array([71.58654936]),\n",
       " array([71.07973987]),\n",
       " array([70.57315633]),\n",
       " array([70.06697462]),\n",
       " array([69.5613342]),\n",
       " array([69.05633415]),\n",
       " array([68.55203109]),\n",
       " array([68.04843911]),\n",
       " array([67.54553117]),\n",
       " array([67.04324195]),\n",
       " array([66.54147187]),\n",
       " array([66.04009202]),\n",
       " array([65.53894984]),\n",
       " array([65.03787535]),\n",
       " array([64.53668785]),\n",
       " array([64.03520284]),\n",
       " array([63.53323922]),\n",
       " array([63.03062647]),\n",
       " array([62.52721191]),\n",
       " array([62.02286783]),\n",
       " array([61.51749839]),\n",
       " array([61.01104618]),\n",
       " array([60.50349836]),\n",
       " array([59.99489208]),\n",
       " array([59.4853191]),\n",
       " array([58.97492941]),\n",
       " array([58.46393354]),\n",
       " array([57.9526035]),\n",
       " array([57.44127204])]"
      ]
     },
     "execution_count": 7,
     "metadata": {},
     "output_type": "execute_result"
    }
   ],
   "source": [
    "# tạo mảng chứa giá trị predict của 30 ngày tiếp theo\n",
    "x_next_30_days = []\n",
    "# predict giá Close 30 ngày tiếp theo dựa vào giá Close của ngày trước đó\n",
    "for i in range(30):\n",
    "    x_pred_next = svr_rbf.predict(last_data)\n",
    "    x_next_30_days.append(x_pred_next)\n",
    "    last_data = x_pred_next.reshape(-1,1)\n",
    "x_next_30_days"
   ]
  },
  {
   "cell_type": "code",
   "execution_count": 8,
   "metadata": {},
   "outputs": [
    {
     "data": {
      "image/png": "[encoded data removed]",
      "text/plain": [
       "<Figure size 1000x600 with 1 Axes>"
      ]
     },
     "metadata": {},
     "output_type": "display_data"
    }
   ],
   "source": [
    "\n",
    "# Vẽ biểu đồ\n",
    "plt.figure(figsize=(10, 6)) # Set the figure size\n",
    "plt.plot(x_next_30_days, marker='o', color='b', label='Predicted Next 30 Days')\n",
    "\n",
    "# Đặt tiêu đề và nhãn\n",
    "plt.title('Predicted Values for the Next 30 Days')\n",
    "plt.xlabel('Date')\n",
    "plt.ylabel('Predicted Value')\n",
    "plt.xticks(rotation=45) # Rotate x-axis labels for better readability\n",
    "plt.legend()\n",
    "\n",
    "# Hiển thị biểu đồ\n",
    "plt.show()"
   ]
  },
  {
   "cell_type": "code",
   "execution_count": 9,
   "metadata": {},
   "outputs": [],
   "source": [
    "# Chuyển cột predict price thành mảng 2 chiều\n",
    "y_pred = y_pred.reshape(-1,1)"
   ]
  },
  {
   "cell_type": "code",
   "execution_count": 10,
   "metadata": {
    "colab": {
     "base_uri": "https://localhost:8080/"
    },
    "id": "JwcVt4wgAHCy",
    "outputId": "72abb27d-2114-49e5-ec95-6922e37d60a9"
   },
   "outputs": [
    {
     "name": "stdout",
     "output_type": "stream",
     "text": [
      "Testing RMSE: 0.4536137072128478\n",
      "Testing MAPE: 0.00533460039277189\n",
      "Testing MAE: 0.3480103634510513\n"
     ]
    }
   ],
   "source": [
    "from sklearn.metrics import mean_absolute_percentage_error,mean_absolute_error\n",
    "# 7. Đánh giá độ chính xác test bằng RMSE, MAE , MAPE\n",
    "# RMSE\n",
    "test_rmse = np.sqrt(np.mean((y_pred - y_test)**2))\n",
    "print('Testing RMSE:', test_rmse)\n",
    "# MAPE\n",
    "test_mape = mean_absolute_percentage_error(y_test,y_pred)\n",
    "print('Testing MAPE:', test_mape)\n",
    "# MAE\n",
    "test_mae = mean_absolute_error(y_test,y_pred)\n",
    "print('Testing MAE:', test_mae)"
   ]
  },
  {
   "cell_type": "code",
   "execution_count": 11,
   "metadata": {},
   "outputs": [],
   "source": [
    "# Tạo index cho 30 ngày tiếp theo\n",
    "last_index =  df.index[-1]\n",
    "next_30_dates = pd.RangeIndex(start=last_index, stop=last_index+30, step=1)"
   ]
  },
  {
   "cell_type": "code",
   "execution_count": 12,
   "metadata": {
    "colab": {
     "base_uri": "https://localhost:8080/",
     "height": 465
    },
    "id": "DE3Pge7a0EHs",
    "outputId": "df98bb23-fd48-47c6-c83d-e9f5cfbf1ca0"
   },
   "outputs": [
    {
     "name": "stdout",
     "output_type": "stream",
     "text": [
      "Testing RMSE: 0.4536137072128478\n",
      "Testing MAPE: 0.00533460039277189\n",
      "Testing MAE: 0.3480103634510513\n"
     ]
    },
    {
     "data": {
      "image/png": "[encoded data removed]",
      "text/plain": [
       "<Figure size 640x480 with 1 Axes>"
      ]
     },
     "metadata": {},
     "output_type": "display_data"
    }
   ],
   "source": [
    "# 8. Tính RMSE\n",
    "test_rmse = np.sqrt(np.mean((y_pred - y_test)**2))\n",
    "print('Testing RMSE:', test_rmse)\n",
    "# MAPE\n",
    "test_mape = mean_absolute_percentage_error(y_test,y_pred)\n",
    "print('Testing MAPE:', test_mape)\n",
    "# MAE\n",
    "test_mae = mean_absolute_error(y_test,y_pred)\n",
    "print('Testing MAE:', test_mae)\n",
    "\n",
    "# 9.Vẽ hình\n",
    "\n",
    "plt.plot(y_train_index, y_train)\n",
    "plt.plot(y_test.index, y_test)\n",
    "plt.plot(y_test.index, y_pred)\n",
    "plt.plot(next_30_dates,x_next_30_days)\n",
    "plt.legend(['Train', 'Test', 'Predictions','Next30Day'])\n",
    "plt.show()"
   ]
  }
 ],
 "metadata": {
  "colab": {
   "provenance": []
  },
  "kernelspec": {
   "display_name": "Python 3 (ipykernel)",
   "language": "python",
   "name": "python3"
  },
  "language_info": {
   "codemirror_mode": {
    "name": "ipython",
    "version": 3
   },
   "file_extension": ".py",
   "mimetype": "text/x-python",
   "name": "python",
   "nbconvert_exporter": "python",
   "pygments_lexer": "ipython3",
   "version": "3.11.5"
  }
 },
 "nbformat": 4,
 "nbformat_minor": 1
}
