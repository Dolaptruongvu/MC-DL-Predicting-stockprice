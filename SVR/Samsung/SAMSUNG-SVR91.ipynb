{
 "cells": [
  {
   "cell_type": "code",
   "execution_count": 2,
   "metadata": {
    "colab": {
     "base_uri": "https://localhost:8080/",
     "height": 455
    },
    "id": "DewQquJ1zXi_",
    "outputId": "dc507c84-0a1f-4af5-d3b1-d2460e4a5f5a"
   },
   "outputs": [
    {
     "data": {
      "text/html": [
       "<div>\n",
       "<style scoped>\n",
       "    .dataframe tbody tr th:only-of-type {\n",
       "        vertical-align: middle;\n",
       "    }\n",
       "\n",
       "    .dataframe tbody tr th {\n",
       "        vertical-align: top;\n",
       "    }\n",
       "\n",
       "    .dataframe thead th {\n",
       "        text-align: right;\n",
       "    }\n",
       "</style>\n",
       "<table border=\"1\" class=\"dataframe\">\n",
       "  <thead>\n",
       "    <tr style=\"text-align: right;\">\n",
       "      <th></th>\n",
       "      <th>Date</th>\n",
       "      <th>Price</th>\n",
       "      <th>Open</th>\n",
       "      <th>High</th>\n",
       "      <th>Low</th>\n",
       "      <th>Vol.</th>\n",
       "      <th>Change %</th>\n",
       "    </tr>\n",
       "  </thead>\n",
       "  <tbody>\n",
       "    <tr>\n",
       "      <th>0</th>\n",
       "      <td>1/2/2018</td>\n",
       "      <td>51.02</td>\n",
       "      <td>51.38</td>\n",
       "      <td>51.40</td>\n",
       "      <td>50.78</td>\n",
       "      <td>8.46M</td>\n",
       "      <td>0.12%</td>\n",
       "    </tr>\n",
       "    <tr>\n",
       "      <th>1</th>\n",
       "      <td>1/3/2018</td>\n",
       "      <td>51.62</td>\n",
       "      <td>52.54</td>\n",
       "      <td>52.56</td>\n",
       "      <td>51.42</td>\n",
       "      <td>9.92M</td>\n",
       "      <td>1.18%</td>\n",
       "    </tr>\n",
       "    <tr>\n",
       "      <th>2</th>\n",
       "      <td>1/4/2018</td>\n",
       "      <td>51.08</td>\n",
       "      <td>52.12</td>\n",
       "      <td>52.18</td>\n",
       "      <td>50.64</td>\n",
       "      <td>11.64M</td>\n",
       "      <td>-1.05%</td>\n",
       "    </tr>\n",
       "    <tr>\n",
       "      <th>3</th>\n",
       "      <td>1/5/2018</td>\n",
       "      <td>52.12</td>\n",
       "      <td>51.30</td>\n",
       "      <td>52.12</td>\n",
       "      <td>51.20</td>\n",
       "      <td>9.33M</td>\n",
       "      <td>2.04%</td>\n",
       "    </tr>\n",
       "    <tr>\n",
       "      <th>4</th>\n",
       "      <td>1/8/2018</td>\n",
       "      <td>52.02</td>\n",
       "      <td>52.40</td>\n",
       "      <td>52.52</td>\n",
       "      <td>51.50</td>\n",
       "      <td>8.36M</td>\n",
       "      <td>-0.19%</td>\n",
       "    </tr>\n",
       "    <tr>\n",
       "      <th>...</th>\n",
       "      <td>...</td>\n",
       "      <td>...</td>\n",
       "      <td>...</td>\n",
       "      <td>...</td>\n",
       "      <td>...</td>\n",
       "      <td>...</td>\n",
       "      <td>...</td>\n",
       "    </tr>\n",
       "    <tr>\n",
       "      <th>1456</th>\n",
       "      <td>12/4/2023</td>\n",
       "      <td>72.60</td>\n",
       "      <td>72.70</td>\n",
       "      <td>72.90</td>\n",
       "      <td>72.50</td>\n",
       "      <td>0.55K</td>\n",
       "      <td>0.83%</td>\n",
       "    </tr>\n",
       "    <tr>\n",
       "      <th>1457</th>\n",
       "      <td>12/5/2023</td>\n",
       "      <td>71.20</td>\n",
       "      <td>72.30</td>\n",
       "      <td>72.40</td>\n",
       "      <td>71.20</td>\n",
       "      <td>0.45K</td>\n",
       "      <td>-1.93%</td>\n",
       "    </tr>\n",
       "    <tr>\n",
       "      <th>1458</th>\n",
       "      <td>12/6/2023</td>\n",
       "      <td>71.70</td>\n",
       "      <td>71.90</td>\n",
       "      <td>72.10</td>\n",
       "      <td>71.60</td>\n",
       "      <td>0.25K</td>\n",
       "      <td>0.70%</td>\n",
       "    </tr>\n",
       "    <tr>\n",
       "      <th>1459</th>\n",
       "      <td>12/7/2023</td>\n",
       "      <td>71.50</td>\n",
       "      <td>71.80</td>\n",
       "      <td>71.90</td>\n",
       "      <td>71.10</td>\n",
       "      <td>0.06K</td>\n",
       "      <td>-0.28%</td>\n",
       "    </tr>\n",
       "    <tr>\n",
       "      <th>1460</th>\n",
       "      <td>12/8/2023</td>\n",
       "      <td>72.60</td>\n",
       "      <td>72.10</td>\n",
       "      <td>72.80</td>\n",
       "      <td>71.90</td>\n",
       "      <td>10.12M</td>\n",
       "      <td>1.54%</td>\n",
       "    </tr>\n",
       "  </tbody>\n",
       "</table>\n",
       "<p>1461 rows × 7 columns</p>\n",
       "</div>"
      ],
      "text/plain": [
       "           Date  Price   Open   High    Low    Vol. Change %\n",
       "0      1/2/2018  51.02  51.38  51.40  50.78   8.46M    0.12%\n",
       "1      1/3/2018  51.62  52.54  52.56  51.42   9.92M    1.18%\n",
       "2      1/4/2018  51.08  52.12  52.18  50.64  11.64M   -1.05%\n",
       "3      1/5/2018  52.12  51.30  52.12  51.20   9.33M    2.04%\n",
       "4      1/8/2018  52.02  52.40  52.52  51.50   8.36M   -0.19%\n",
       "...         ...    ...    ...    ...    ...     ...      ...\n",
       "1456  12/4/2023  72.60  72.70  72.90  72.50   0.55K    0.83%\n",
       "1457  12/5/2023  71.20  72.30  72.40  71.20   0.45K   -1.93%\n",
       "1458  12/6/2023  71.70  71.90  72.10  71.60   0.25K    0.70%\n",
       "1459  12/7/2023  71.50  71.80  71.90  71.10   0.06K   -0.28%\n",
       "1460  12/8/2023  72.60  72.10  72.80  71.90  10.12M    1.54%\n",
       "\n",
       "[1461 rows x 7 columns]"
      ]
     },
     "execution_count": 2,
     "metadata": {},
     "output_type": "execute_result"
    }
   ],
   "source": [
    "import pandas as pd\n",
    "import matplotlib.pyplot as plt\n",
    "import numpy as np\n",
    "import warnings\n",
    "warnings.filterwarnings('ignore')\n",
    "# Đọc dữ liệu từ tập tin CSV với các tùy chọn\n",
    "df = pd.read_csv('SAMSUNG.csv', header=0, parse_dates=[0], index_col=0)\n",
    "df = df.dropna() # Drop missing values\n",
    "df = df.reset_index(drop=True) # Reset the index\n",
    "# In ra 5 dòng đầu tiên của DataFrame\n",
    "df\n"
   ]
  },
  {
   "cell_type": "code",
   "execution_count": 3,
   "metadata": {
    "id": "gJuOh8-y_Uif"
   },
   "outputs": [],
   "source": [
    "# 2.  chia train test validate theo tỉ lệ 9:1\n",
    "# Split the data into training, testing\n",
    "train_size = int(0.9 * len(df))\n",
    "test_size = int(0.1 * len(df))\n",
    "\n",
    "\n",
    "X2D = df[['High']] # Biến độc lập theo mảng 2 chiều\n",
    "Y2D = df[['Price']] # Biến phụ thuộc theo mảng 2 chiều\n",
    "\n"
   ]
  },
  {
   "cell_type": "code",
   "execution_count": 4,
   "metadata": {
    "colab": {
     "base_uri": "https://localhost:8080/",
     "height": 387
    },
    "id": "JbQNK8an_imI",
    "outputId": "8a54dfde-fd22-4b5d-f277-bf09c0c29b62"
   },
   "outputs": [
    {
     "name": "stdout",
     "output_type": "stream",
     "text": [
      "Best parameters: {'C': 1000, 'epsilon': 0.01, 'gamma': 0.001}\n",
      "Best score: 0.2681675657706123\n"
     ]
    }
   ],
   "source": [
    "from sklearn.svm import SVR\n",
    "from sklearn.model_selection import GridSearchCV\n",
    "from sklearn.model_selection import cross_val_score\n",
    "\n",
    "y_train = Y2D[:train_size]\n",
    "x_train = X2D[:train_size]\n",
    "y_test = Y2D[train_size:]\n",
    "x_test = X2D[train_size:]\n",
    "y_train_index = y_train.index # lấy ra index trước khi đổi nó về mảng 2 chiều ( phục vụ plot )\n",
    "y_train = Y2D[:train_size].values.ravel()\n",
    "\n",
    "# Tạo mô hình SVR với kernel RBF\n",
    "model = SVR(kernel='rbf')\n",
    "param_grid = {\n",
    "    'C': [0.1, 1, 10, 100, 1000],             # Ví dụ các giá trị cho C\n",
    "    'gamma': ['scale', 'auto', 0.001, 0.01, 0.1, 1],  # Ví dụ các giá trị cho gamma\n",
    "    'epsilon': [0.001, 0.01, 0.1, 1, 10]      # Ví dụ các giá trị cho epsilon\n",
    "}\n",
    "\n",
    "# Tạo đối tượng GridSearchCV\n",
    "grid_search = GridSearchCV(model, param_grid, cv=5, scoring='neg_mean_squared_error', n_jobs=-1)\n",
    "\n",
    "# Huấn luyện mô hình sử dụng grid search\n",
    "svr_rbf = grid_search.fit(x_train,y_train)\n",
    "\n",
    "# In ra kết quả tốt nhất\n",
    "print(\"Best parameters:\", grid_search.best_params_)\n",
    "print(\"Best score:\", -grid_search.best_score_)\n"
   ]
  },
  {
   "cell_type": "code",
   "execution_count": 5,
   "metadata": {
    "id": "tq3vSOvd_xL3"
   },
   "outputs": [
    {
     "data": {
      "text/plain": [
       "array([65.80556891, 65.30599753, 65.00611541, 64.60610543, 64.10582241,\n",
       "       64.10582241, 65.40593473, 65.40593473, 65.70567729, 67.90110391,\n",
       "       68.49928707, 68.20021278, 68.20021278, 69.49609266, 69.89483397,\n",
       "       71.78994054, 71.98958627, 71.09145686, 71.69013148, 72.18926993,\n",
       "       71.09145686, 70.39333422, 71.78994054, 71.88975874, 71.69013148,\n",
       "       71.69013148, 71.78994054, 71.3907571 , 71.1912158 , 70.89196092,\n",
       "       70.69249218, 70.99170533, 71.69013148, 71.98958627, 72.08942328,\n",
       "       72.18926993, 72.88847402, 72.18926993, 72.68865131, 73.08833679,\n",
       "       72.78855764, 71.78994054, 70.89196092, 69.89483397, 70.99170533,\n",
       "       71.49053999, 72.08942328, 72.88847402, 72.98840043, 72.98840043,\n",
       "       72.18926993, 70.99170533, 69.89483397, 70.29362554, 69.99452616,\n",
       "       70.09422188, 71.1912158 , 71.88975874, 70.49304799, 70.69249218,\n",
       "       70.49304799, 69.69545864, 68.59897268, 68.69865606, 68.59897268,\n",
       "       68.99769696, 68.00081137, 68.29990753, 67.40248405, 66.60432141,\n",
       "       66.30486539, 66.205027  , 66.60432141, 67.10323314, 66.60432141,\n",
       "       68.1005142 , 66.90369402, 66.50451235, 66.70412119, 67.20299083,\n",
       "       66.70412119, 70.49304799, 72.28912634, 70.99170533, 70.29362554,\n",
       "       70.09422188, 69.79514493, 70.29362554, 70.49304799, 70.99170533,\n",
       "       71.29098246, 71.78994054, 71.1912158 , 70.29362554, 69.79514493,\n",
       "       69.29673274, 68.39959882, 69.19705402, 69.39641215, 68.59897268,\n",
       "       67.20299083, 66.90369402, 66.80391196, 67.10323314, 68.89801778,\n",
       "       69.19705402, 68.00081137, 68.00081137, 69.29673274, 69.99452616,\n",
       "       69.49609266, 68.69865606, 68.59897268, 68.29990753, 68.29990753,\n",
       "       67.40248405, 66.80391196, 67.30274102, 67.70167359, 68.29990753,\n",
       "       69.49609266, 69.69545864, 70.39333422, 70.39333422, 70.89196092,\n",
       "       70.29362554, 69.99452616, 70.79222331, 70.59276719, 71.69013148,\n",
       "       72.48886882, 72.48886882, 72.48886882, 72.88847402, 72.48886882,\n",
       "       72.68865131, 72.08942328, 71.59033137, 72.18926993, 72.28912634,\n",
       "       72.28912634, 71.98958627, 72.38899261, 71.88975874, 71.59033137,\n",
       "       71.3907571 , 72.28912634])"
      ]
     },
     "execution_count": 5,
     "metadata": {},
     "output_type": "execute_result"
    }
   ],
   "source": [
    "\n",
    "\n",
    "y_pred = svr_rbf.predict(x_test)\n",
    "y_pred\n"
   ]
  },
  {
   "cell_type": "code",
   "execution_count": 6,
   "metadata": {
    "colab": {
     "base_uri": "https://localhost:8080/"
    },
    "id": "mI2qmayj_-rD",
    "outputId": "d648e73b-f491-41e3-9835-906ee8eb8f6d"
   },
   "outputs": [
    {
     "data": {
      "text/plain": [
       "array([[72.6]])"
      ]
     },
     "execution_count": 6,
     "metadata": {},
     "output_type": "execute_result"
    }
   ],
   "source": [
    "last_row = df.tail(1)\n",
    "last_data = last_row['Price'].values.reshape(-1,1)\n",
    "last_data"
   ]
  },
  {
   "cell_type": "code",
   "execution_count": 7,
   "metadata": {},
   "outputs": [
    {
     "data": {
      "text/plain": [
       "[array([72.08942328]),\n",
       " array([71.57977631]),\n",
       " array([71.07128283]),\n",
       " array([70.56413007]),\n",
       " array([70.05846067]),\n",
       " array([69.55436722]),\n",
       " array([69.05188949]),\n",
       " array([68.55101373]),\n",
       " array([68.05167405]),\n",
       " array([67.55375543]),\n",
       " array([67.05709801]),\n",
       " array([66.56150249]),\n",
       " array([66.06673635]),\n",
       " array([65.57254065]),\n",
       " array([65.07863733]),\n",
       " array([64.58473682]),\n",
       " array([64.09054589]),\n",
       " array([63.59577574]),\n",
       " array([63.10015021]),\n",
       " array([62.60341407]),\n",
       " array([62.10534136]),\n",
       " array([61.60574377]),\n",
       " array([61.10447881]),\n",
       " array([60.60145776]),\n",
       " array([60.09665323]),\n",
       " array([59.59010593]),\n",
       " array([59.08193065]),\n",
       " array([58.57232087]),\n",
       " array([58.06155186]),\n",
       " array([57.54998182])]"
      ]
     },
     "execution_count": 7,
     "metadata": {},
     "output_type": "execute_result"
    }
   ],
   "source": [
    "# tạo mảng chứa giá trị predict của 30 ngày tiếp theo\n",
    "x_next_30_days = []\n",
    "# predict giá Close 30 ngày tiếp theo dựa vào giá Close của ngày trước đó\n",
    "for i in range(30):\n",
    "    x_pred_next = svr_rbf.predict(last_data)\n",
    "    x_next_30_days.append(x_pred_next)\n",
    "    last_data = x_pred_next.reshape(-1,1)\n",
    "x_next_30_days"
   ]
  },
  {
   "cell_type": "code",
   "execution_count": 8,
   "metadata": {},
   "outputs": [
    {
     "data": {
      "image/png": "[encoded data removed]",
      "text/plain": [
       "<Figure size 1000x600 with 1 Axes>"
      ]
     },
     "metadata": {},
     "output_type": "display_data"
    }
   ],
   "source": [
    "\n",
    "# Vẽ biểu đồ\n",
    "plt.figure(figsize=(10, 6)) # Set the figure size\n",
    "plt.plot(x_next_30_days, marker='o', color='b', label='Predicted Next 30 Days')\n",
    "\n",
    "# Đặt tiêu đề và nhãn\n",
    "plt.title('Predicted Values for the Next 30 Days')\n",
    "plt.xlabel('Date')\n",
    "plt.ylabel('Predicted Value')\n",
    "plt.xticks(rotation=45) # Rotate x-axis labels for better readability\n",
    "plt.legend()\n",
    "\n",
    "# Hiển thị biểu đồ\n",
    "plt.show()"
   ]
  },
  {
   "cell_type": "code",
   "execution_count": 9,
   "metadata": {},
   "outputs": [],
   "source": [
    "# Chuyển cột predict price thành mảng 2 chiều\n",
    "y_pred = y_pred.reshape(-1,1)"
   ]
  },
  {
   "cell_type": "code",
   "execution_count": 10,
   "metadata": {
    "colab": {
     "base_uri": "https://localhost:8080/"
    },
    "id": "JwcVt4wgAHCy",
    "outputId": "72abb27d-2114-49e5-ec95-6922e37d60a9"
   },
   "outputs": [
    {
     "name": "stdout",
     "output_type": "stream",
     "text": [
      "Testing RMSE: 0.45000718782770216\n",
      "Testing MAPE: 0.005196189852831736\n",
      "Testing MAE: 0.3627929074441871\n"
     ]
    }
   ],
   "source": [
    "from sklearn.metrics import mean_absolute_percentage_error,mean_absolute_error\n",
    "# 7. Đánh giá độ chính xác test bằng RMSE, MAE , MAPE\n",
    "# RMSE\n",
    "test_rmse = np.sqrt(np.mean((y_pred - y_test)**2))\n",
    "print('Testing RMSE:', test_rmse)\n",
    "# MAPE\n",
    "test_mape = mean_absolute_percentage_error(y_test,y_pred)\n",
    "print('Testing MAPE:', test_mape)\n",
    "# MAE\n",
    "test_mae = mean_absolute_error(y_test,y_pred)\n",
    "print('Testing MAE:', test_mae)"
   ]
  },
  {
   "cell_type": "code",
   "execution_count": 11,
   "metadata": {},
   "outputs": [],
   "source": [
    "# Tạo index cho 30 ngày tiếp theo\n",
    "last_index =  df.index[-1]\n",
    "next_30_dates = pd.RangeIndex(start=last_index, stop=last_index+30, step=1)"
   ]
  },
  {
   "cell_type": "code",
   "execution_count": 12,
   "metadata": {
    "colab": {
     "base_uri": "https://localhost:8080/",
     "height": 465
    },
    "id": "DE3Pge7a0EHs",
    "outputId": "df98bb23-fd48-47c6-c83d-e9f5cfbf1ca0"
   },
   "outputs": [
    {
     "name": "stdout",
     "output_type": "stream",
     "text": [
      "Testing RMSE: 0.45000718782770216\n",
      "Testing MAPE: 0.005196189852831736\n",
      "Testing MAE: 0.3627929074441871\n"
     ]
    },
    {
     "data": {
      "image/png": "[encoded data removed]",
      "text/plain": [
       "<Figure size 640x480 with 1 Axes>"
      ]
     },
     "metadata": {},
     "output_type": "display_data"
    }
   ],
   "source": [
    "# 8. Tính RMSE\n",
    "test_rmse = np.sqrt(np.mean((y_pred - y_test)**2))\n",
    "print('Testing RMSE:', test_rmse)\n",
    "# MAPE\n",
    "test_mape = mean_absolute_percentage_error(y_test,y_pred)\n",
    "print('Testing MAPE:', test_mape)\n",
    "# MAE\n",
    "test_mae = mean_absolute_error(y_test,y_pred)\n",
    "print('Testing MAE:', test_mae)\n",
    "\n",
    "# 9.Vẽ hình\n",
    "\n",
    "plt.plot(y_train_index, y_train)\n",
    "plt.plot(y_test.index, y_test)\n",
    "plt.plot(y_test.index, y_pred)\n",
    "plt.plot(next_30_dates,x_next_30_days)\n",
    "plt.legend(['Train', 'Test', 'Predictions','Next30Day'])\n",
    "plt.show()"
   ]
  }
 ],
 "metadata": {
  "colab": {
   "provenance": []
  },
  "kernelspec": {
   "display_name": "Python 3 (ipykernel)",
   "language": "python",
   "name": "python3"
  },
  "language_info": {
   "codemirror_mode": {
    "name": "ipython",
    "version": 3
   },
   "file_extension": ".py",
   "mimetype": "text/x-python",
   "name": "python",
   "nbconvert_exporter": "python",
   "pygments_lexer": "ipython3",
   "version": "3.11.5"
  }
 },
 "nbformat": 4,
 "nbformat_minor": 1
}
