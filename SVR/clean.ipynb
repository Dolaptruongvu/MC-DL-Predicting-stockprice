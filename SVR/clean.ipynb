{
 "cells": [
  {
   "cell_type": "code",
   "execution_count": 6,
   "metadata": {},
   "outputs": [
    {
     "name": "stdout",
     "output_type": "stream",
     "text": [
      "       Date   Price    Open    High     Low    Vol. Change %\n",
      "0  1/2/2018  51,020  51,380  51,400  50,780   8.46M    0.12%\n",
      "1  1/3/2018  51,620  52,540  52,560  51,420   9.92M    1.18%\n",
      "2  1/4/2018  51,080  52,120  52,180  50,640  11.64M   -1.05%\n",
      "3  1/5/2018  52,120  51,300  52,120  51,200   9.33M    2.04%\n",
      "4  1/8/2018  52,020  52,400  52,520  51,500   8.36M   -0.19%\n"
     ]
    }
   ],
   "source": [
    "import pandas as pd\n",
    "import matplotlib.pyplot as plt\n",
    "import numpy as np\n",
    "import warnings\n",
    "warnings.filterwarnings('ignore')\n",
    "# Đọc dữ liệu từ tập tin CSV với các tùy chọn\n",
    "df = pd.read_csv('SAMSUNG.csv')\n",
    "\n",
    "# In ra 5 dòng đầu tiên của DataFrame\n",
    "print(df.head())\n",
    "df = df.dropna() # Drop missing values\n",
    "df = df.reset_index(drop=True) # Reset the index"
   ]
  },
  {
   "cell_type": "code",
   "execution_count": 7,
   "metadata": {},
   "outputs": [
    {
     "name": "stdout",
     "output_type": "stream",
     "text": [
      "       Date  Price   Open   High    Low    Vol. Change %\n",
      "0  1/2/2018  51.02  51.38  51.40  50.78   8.46M    0.12%\n",
      "1  1/3/2018  51.62  52.54  52.56  51.42   9.92M    1.18%\n",
      "2  1/4/2018  51.08  52.12  52.18  50.64  11.64M   -1.05%\n",
      "3  1/5/2018  52.12  51.30  52.12  51.20   9.33M    2.04%\n",
      "4  1/8/2018  52.02  52.40  52.52  51.50   8.36M   -0.19%\n"
     ]
    }
   ],
   "source": [
    "# Chuyển dấu ',' thành '.'\n",
    "df['Price'] = df['Price'].str.replace(',', '.')\n",
    "df['Open'] = df['Open'].str.replace(',', '.')\n",
    "df['High'] = df['High'].str.replace(',', '.')\n",
    "df['Low'] = df['Low'].str.replace(',', '.')\n",
    "\n",
    "# Chuyển các cột sang kiểu số thực (float)\n",
    "df['Price'] = df['Price'].astype(float)\n",
    "df['Open'] = df['Open'].astype(float)\n",
    "df['High'] = df['High'].astype(float)\n",
    "df['Low'] = df['Low'].astype(float)\n",
    "\n",
    "# In ra 5 dòng đầu tiên sau khi đã chuyển đổi\n",
    "print(df.head())\n"
   ]
  },
  {
   "cell_type": "code",
   "execution_count": 8,
   "metadata": {},
   "outputs": [],
   "source": [
    "# Lưu DataFrame đã chỉnh sửa thành tệp CSV\n",
    "df.to_csv('SAMSUNG.csv')\n"
   ]
  }
 ],
 "metadata": {
  "kernelspec": {
   "display_name": "Python 3",
   "language": "python",
   "name": "python3"
  },
  "language_info": {
   "codemirror_mode": {
    "name": "ipython",
    "version": 3
   },
   "file_extension": ".py",
   "mimetype": "text/x-python",
   "name": "python",
   "nbconvert_exporter": "python",
   "pygments_lexer": "ipython3",
   "version": "3.11.5"
  }
 },
 "nbformat": 4,
 "nbformat_minor": 2
}
